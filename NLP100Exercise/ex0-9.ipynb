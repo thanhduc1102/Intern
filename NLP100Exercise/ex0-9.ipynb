{
 "cells": [
  {
   "cell_type": "code",
   "execution_count": 3,
   "metadata": {},
   "outputs": [
    {
     "name": "stdout",
     "output_type": "stream",
     "text": [
      "desserts\n"
     ]
    }
   ],
   "source": [
    "# ex0 Reversed string\n",
    "\n",
    "str = \"stressed\"\n",
    "# str = input(\"enter string: \")\n",
    "# print(str)\n",
    "print(str[::-1])\n",
    "# for i in range(len(str)-1, -1, -1):\n",
    "#     print(str[i], end=\"\")\n"
   ]
  },
  {
   "cell_type": "code",
   "execution_count": 15,
   "metadata": {},
   "outputs": [],
   "source": [
    "import collections"
   ]
  },
  {
   "cell_type": "code",
   "execution_count": 4,
   "metadata": {},
   "outputs": [
    {
     "name": "stdout",
     "output_type": "stream",
     "text": [
      "srse\n"
     ]
    }
   ],
   "source": [
    "# ex1: “schooled”\n",
    "\n",
    "str1 = \"\"\n",
    "for i in range(0, 7, 2):\n",
    "    str1 += str[i]\n",
    "print(str1)\n"
   ]
  },
  {
   "cell_type": "code",
   "execution_count": 5,
   "metadata": {},
   "outputs": [
    {
     "name": "stdout",
     "output_type": "stream",
     "text": [
      "schooled\n"
     ]
    }
   ],
   "source": [
    "# ex2:  “shoe” + “cold” = “schooled”\n",
    "\n",
    "shoe = \"shoe\"\n",
    "cold = \"cold\"\n",
    "schooled = shoe[0] + cold[0] + shoe[1:3] + cold[1:3] + shoe[3] + cold[3]\n",
    "print(schooled)\n"
   ]
  },
  {
   "cell_type": "code",
   "execution_count": 6,
   "metadata": {},
   "outputs": [
    {
     "name": "stdout",
     "output_type": "stream",
     "text": [
      "['now', 'i', 'need', 'a', 'drink,', 'alcoholic', 'of', 'course,', 'after', 'the', 'heavy', 'lectures', 'involving', 'quantum', 'mechanics']\n",
      "['a', 'after', 'alcoholic', 'course,', 'drink,', 'heavy', 'i', 'involving', 'lectures', 'mechanics', 'need', 'now', 'of', 'quantum', 'the']\n"
     ]
    }
   ],
   "source": [
    "# ex3: Pi\n",
    "\n",
    "sent = \"Now I need a drink, alcoholic of course, after the heavy lectures involving quantum mechanics\"\n",
    "list = sent.lower().split()\n",
    "print(list)\n",
    "list = sorted(list)\n",
    "print(list)\n"
   ]
  },
  {
   "cell_type": "code",
   "execution_count": 7,
   "metadata": {},
   "outputs": [
    {
     "name": "stdout",
     "output_type": "stream",
     "text": [
      "{'H': 1, 'He': 2, 'Li': 3, 'Be': 4, 'B': 5, 'C': 6, 'N': 7, 'O': 8, 'F': 9, 'Ne': 10, 'Na': 11, 'Mi': 12, 'Al': 13, 'Si': 14, 'P': 15, 'S': 16, 'Cl': 17, 'Ar': 18, 'K': 19, 'Ca': 20}\n"
     ]
    }
   ],
   "source": [
    "# ex4: Atomic symbols\n",
    "\n",
    "sentence = \"Hi He Lied Because Boron Could Not Oxidize Fluorine. New Nations Might Also Sign Peace Security Clause. Arthur King Can\"\n",
    "words = sentence.split()\n",
    "# Positions of words start from 1 (not 0), so we add 1 to the index\n",
    "positions = {}\n",
    "for i in range(len(words)):\n",
    "    if i+1 in [1, 5, 6, 7, 8, 9, 15, 16, 19]:\n",
    "        positions[words[i][:1]] = i+1\n",
    "    else:\n",
    "        positions[words[i][:2]] = i+1\n",
    "# positions = {words[i][:1] if i+1 in [1, 5, 6, 7, 8, 9, 15, 16, 19] else words[i][:2]: i+1 for i in range(len(words))}\n",
    "print(positions)\n"
   ]
  },
  {
   "cell_type": "code",
   "execution_count": 20,
   "metadata": {},
   "outputs": [],
   "source": [
    "\n",
    "def get_ngram(str, n):\n",
    "    ngrams = []\n",
    "    for i in range(len(str)-n+1):\n",
    "        ngrams.append(str[i:i+n])\n",
    "    return ngrams\n"
   ]
  },
  {
   "cell_type": "code",
   "execution_count": 21,
   "metadata": {},
   "outputs": [
    {
     "name": "stdout",
     "output_type": "stream",
     "text": [
      "['I am', 'am an', 'an NLPer']\n",
      "['I ', ' a', 'am', 'm ', ' a', 'an', 'n ', ' N', 'NL', 'LP', 'Pe', 'er']\n"
     ]
    }
   ],
   "source": [
    "# ex5 N-gram\n",
    "\n",
    "sentence = \"I am an NLPer\"\n",
    "\n",
    "words = sentence.split()\n",
    "bi_grams = get_ngram(words, 2)\n",
    "for i in range(len(bi_grams)):\n",
    "    bi_grams[i] = \" \".join(bi_grams[i])\n",
    "print(bi_grams)\n",
    "\n",
    "letters = sentence.replace(\"\", \"\")\n",
    "bi_grams = get_ngram(letters, 2)\n",
    "print(bi_grams)\n"
   ]
  },
  {
   "cell_type": "code",
   "execution_count": 24,
   "metadata": {},
   "outputs": [
    {
     "name": "stdout",
     "output_type": "stream",
     "text": [
      "union:  {'gr', 'ap', 'ar', 'ad', 'ra', 'ag', 'pa', 'is', 'se', 'ph', 'di'}\n",
      "intersection:  {'ra', 'ap', 'ar', 'pa'}\n",
      "difference:  {'ad', 'is', 'se', 'di'}\n",
      "'se' is in set_x\n",
      "'se' is not in set_y\n"
     ]
    }
   ],
   "source": [
    "# ex6: Set\n",
    "word_x = \"paraparaparadise\"\n",
    "word_y = \"paragraph\"\n",
    "set_x = set(get_ngram(word_x, 2))\n",
    "set_y = set(get_ngram(word_y, 2))\n",
    "union = set_x.union(set_y)\n",
    "intersection = set_x.intersection(set_y)\n",
    "difference = set_x.difference(set_y)\n",
    "print(\"union: \", union)\n",
    "print(\"intersection: \", intersection)\n",
    "print(\"difference: \", difference)\n",
    "\n",
    "if \"se\" in set_x:\n",
    "    print(\"'se' is in set_x\")\n",
    "else:\n",
    "    print(\"'se' is not in set_x\")\n",
    "\n",
    "if \"se\" in set_y:\n",
    "    print(\"'se' is in set_y\")\n",
    "else:\n",
    "    print(\"'se' is not in set_y\")\n"
   ]
  },
  {
   "cell_type": "code",
   "execution_count": 26,
   "metadata": {},
   "outputs": [
    {
     "name": "stdout",
     "output_type": "stream",
     "text": [
      "temperature is 22.4 at 12\n"
     ]
    }
   ],
   "source": [
    "# ex7: Template-based sentence generation\n",
    "def format_template(x, y, z):\n",
    "    return f\"{y} is {z} at {x}\"\n",
    "x=12\n",
    "y=\"temperature\"\n",
    "z=22.4\n",
    "result = format_template(x, y, z)\n",
    "print(result)"
   ]
  },
  {
   "cell_type": "code",
   "execution_count": 27,
   "metadata": {},
   "outputs": [
    {
     "name": "stdout",
     "output_type": "stream",
     "text": [
      "I am an NLPer\n",
      "I zn zm NLPvi\n",
      "I am an NLPer\n"
     ]
    }
   ],
   "source": [
    "# ex8: Cipher text\n",
    "def cipher(str):\n",
    "    result = \"\"\n",
    "    for s in str:\n",
    "        if s.islower():\n",
    "            result += chr(219-ord(s))\n",
    "        else:\n",
    "            result += s\n",
    "    return result\n",
    "original = \"I am an NLPer\"\n",
    "ciphered = cipher(original)\n",
    "deciphered = cipher(ciphered)\n",
    "print(original)\n",
    "print(ciphered)\n",
    "print(deciphered)"
   ]
  },
  {
   "cell_type": "code",
   "execution_count": 31,
   "metadata": {},
   "outputs": [
    {
     "name": "stdout",
     "output_type": "stream",
     "text": [
      "I couldn't believe that I could actually understand what I was reading : the phenomenal power of the human mind .\n",
      "I cn'uoldt beeivle that I cluod auctally uaetrdsnnd what I was raiedng : the pohameennl pwoer of the human mind .\n"
     ]
    }
   ],
   "source": [
    "# ex9: Typoglycemia\n",
    "import random\n",
    "def shuffle_word(word):\n",
    "    if len(word) <= 4:\n",
    "        return word\n",
    "    else:\n",
    "        return word[0] + ''.join(random.sample(word[1:-1], len(word)-2)) + word[-1]\n",
    "    \n",
    "def shuffle_sentence(sentence):\n",
    "    words = sentence.split()\n",
    "    shuffled_words = [shuffle_word(word) for word in words]\n",
    "    return ' '.join(shuffled_words)\n",
    "sentence = \"I couldn't believe that I could actually understand what I was reading : the phenomenal power of the human mind .\"\n",
    "shuffle_sentence = shuffle_sentence(sentence)\n",
    "print(sentence)\n",
    "print(shuffle_sentence)\n"
   ]
  }
 ],
 "metadata": {
  "kernelspec": {
   "display_name": "Python 3",
   "language": "python",
   "name": "python3"
  },
  "language_info": {
   "codemirror_mode": {
    "name": "ipython",
    "version": 3
   },
   "file_extension": ".py",
   "mimetype": "text/x-python",
   "name": "python",
   "nbconvert_exporter": "python",
   "pygments_lexer": "ipython3",
   "version": "3.10.5"
  },
  "orig_nbformat": 4
 },
 "nbformat": 4,
 "nbformat_minor": 2
}
