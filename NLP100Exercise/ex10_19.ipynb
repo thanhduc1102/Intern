{
 "cells": [
  {
   "cell_type": "code",
   "execution_count": 2,
   "metadata": {},
   "outputs": [
    {
     "name": "stdout",
     "output_type": "stream",
     "text": [
      "2780\n"
     ]
    }
   ],
   "source": [
    "# ex10 Line count\n",
    "with open('popular-names.txt') as f:\n",
    "    lines = f.readlines()\n",
    "num_lines = len(lines)\n",
    "print(num_lines)"
   ]
  },
  {
   "cell_type": "code",
   "execution_count": 4,
   "metadata": {},
   "outputs": [],
   "source": [
    "# ex11 replace tabs to spaces\n",
    "def replace_tabs_to_spaces(input_file, output_file):\n",
    "    with open(input_file) as f:\n",
    "        lines = f.readlines()\n",
    "    with open(output_file, 'w') as f:\n",
    "        for line in lines:\n",
    "            f.write(line.replace('\\t', ' '))\n",
    "replace_tabs_to_spaces('popular-names.txt', 'popular-names-spaces.txt')\n"
   ]
  },
  {
   "cell_type": "code",
   "execution_count": 7,
   "metadata": {},
   "outputs": [],
   "source": [
    "#ex12 col1.txt from the first column, col2.txt from the second column\n",
    "with open('popular-names.txt') as f,\\\n",
    "    open('col1.txt', 'w') as f1, \\\n",
    "    open('col2.txt', 'w') as f2:\n",
    "    for line in f:\n",
    "        cols = line.split()\n",
    "        f1.write(cols[0] + '\\n')\n",
    "        f2.write(cols[1] + '\\n')"
   ]
  },
  {
   "cell_type": "code",
   "execution_count": 8,
   "metadata": {},
   "outputs": [],
   "source": [
    "#ex13 merging col1.txt and col2.txt\n",
    "with open('col1.txt', 'r') as f1, open('col2.txt', 'r') as f2, open('merge.txt', 'w') as f:\n",
    "    for line1, line2 in zip(f1, f2):\n",
    "        f.write(line1.rstrip() + '\\t' + line2)"
   ]
  },
  {
   "cell_type": "code",
   "execution_count": 10,
   "metadata": {},
   "outputs": [
    {
     "ename": "ValueError",
     "evalue": "invalid literal for int() with base 10: '--stdin=9008'",
     "output_type": "error",
     "traceback": [
      "\u001b[1;31m---------------------------------------------------------------------------\u001b[0m",
      "\u001b[1;31mValueError\u001b[0m                                Traceback (most recent call last)",
      "\u001b[1;32me:\\duc\\TAI_LIEU_HUST\\20222\\ttkt\\Code_intern\\NLP100Exercise\\ex10_19.ipynb Cell 5\u001b[0m in \u001b[0;36m<cell line: 7>\u001b[1;34m()\u001b[0m\n\u001b[0;32m      <a href='vscode-notebook-cell:/e%3A/duc/TAI_LIEU_HUST/20222/ttkt/Code_intern/NLP100Exercise/ex10_19.ipynb#W4sZmlsZQ%3D%3D?line=4'>5</a>\u001b[0m     sys\u001b[39m.\u001b[39mexit()\n\u001b[0;32m      <a href='vscode-notebook-cell:/e%3A/duc/TAI_LIEU_HUST/20222/ttkt/Code_intern/NLP100Exercise/ex10_19.ipynb#W4sZmlsZQ%3D%3D?line=5'>6</a>\u001b[0m filename \u001b[39m=\u001b[39m sys\u001b[39m.\u001b[39margv[\u001b[39m1\u001b[39m]\n\u001b[1;32m----> <a href='vscode-notebook-cell:/e%3A/duc/TAI_LIEU_HUST/20222/ttkt/Code_intern/NLP100Exercise/ex10_19.ipynb#W4sZmlsZQ%3D%3D?line=6'>7</a>\u001b[0m N\u001b[39m=\u001b[39m\u001b[39mint\u001b[39;49m(sys\u001b[39m.\u001b[39;49margv[\u001b[39m2\u001b[39;49m])\n\u001b[0;32m      <a href='vscode-notebook-cell:/e%3A/duc/TAI_LIEU_HUST/20222/ttkt/Code_intern/NLP100Exercise/ex10_19.ipynb#W4sZmlsZQ%3D%3D?line=7'>8</a>\u001b[0m \u001b[39mwith\u001b[39;00m \u001b[39mopen\u001b[39m(filename, \u001b[39m\"\u001b[39m\u001b[39mr\u001b[39m\u001b[39m\"\u001b[39m) \u001b[39mas\u001b[39;00m f:\n\u001b[0;32m      <a href='vscode-notebook-cell:/e%3A/duc/TAI_LIEU_HUST/20222/ttkt/Code_intern/NLP100Exercise/ex10_19.ipynb#W4sZmlsZQ%3D%3D?line=8'>9</a>\u001b[0m     \u001b[39mfor\u001b[39;00m i \u001b[39min\u001b[39;00m \u001b[39mrange\u001b[39m(N):\n",
      "\u001b[1;31mValueError\u001b[0m: invalid literal for int() with base 10: '--stdin=9008'"
     ]
    }
   ],
   "source": [
    "#ex14 first N lines\n",
    "import sys\n",
    "if len(sys.argv) < 3:\n",
    "    print('Usage: python ex14.py N file')\n",
    "    sys.exit()\n",
    "filename = sys.argv[1]\n",
    "N=int(sys.argv[2])\n",
    "with open(filename, \"r\") as f:\n",
    "    for i in range(N):\n",
    "        line = f.readline().strip()\n",
    "        if not line:\n",
    "            break\n",
    "        print(line)"
   ]
  },
  {
   "cell_type": "code",
   "execution_count": null,
   "metadata": {},
   "outputs": [],
   "source": []
  },
  {
   "cell_type": "code",
   "execution_count": null,
   "metadata": {},
   "outputs": [],
   "source": []
  }
 ],
 "metadata": {
  "kernelspec": {
   "display_name": "Python 3",
   "language": "python",
   "name": "python3"
  },
  "language_info": {
   "codemirror_mode": {
    "name": "ipython",
    "version": 3
   },
   "file_extension": ".py",
   "mimetype": "text/x-python",
   "name": "python",
   "nbconvert_exporter": "python",
   "pygments_lexer": "ipython3",
   "version": "3.10.5"
  },
  "orig_nbformat": 4
 },
 "nbformat": 4,
 "nbformat_minor": 2
}
