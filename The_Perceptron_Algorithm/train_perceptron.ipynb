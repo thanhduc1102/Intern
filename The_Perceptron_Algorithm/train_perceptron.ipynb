{
 "cells": [
  {
   "cell_type": "code",
   "execution_count": 1,
   "metadata": {},
   "outputs": [],
   "source": [
    "import sys\n",
    "from collections import defaultdict"
   ]
  },
  {
   "cell_type": "code",
   "execution_count": 2,
   "metadata": {},
   "outputs": [],
   "source": [
    "def predict_one(w, phi):\n",
    "    score = 0\n",
    "    for name, value in phi.items():\n",
    "        if name in w:\n",
    "            score += value *w[name]\n",
    "    if score >= 0:\n",
    "        return 1\n",
    "    else: \n",
    "        return -1\n",
    "    "
   ]
  },
  {
   "cell_type": "code",
   "execution_count": 3,
   "metadata": {},
   "outputs": [],
   "source": [
    "def update_weights(w, phi, y):\n",
    "    for name, value in phi.items():\n",
    "        w[name] += value*y"
   ]
  },
  {
   "cell_type": "code",
   "execution_count": 4,
   "metadata": {},
   "outputs": [],
   "source": [
    "def create_features(x):\n",
    "    phi = defaultdict(int)\n",
    "    words = x.strip().split()\n",
    "    for word in words:\n",
    "        phi[f\"UNI:{word}\"] += 1\n",
    "    return phi"
   ]
  },
  {
   "cell_type": "code",
   "execution_count": 5,
   "metadata": {},
   "outputs": [],
   "source": [
    "def train_perceptron(train_file, model_file, num_epochs):\n",
    "    w = defaultdict(float)\n",
    "    for epoch in range(num_epochs):\n",
    "        with open(train_file, \"r\") as f:\n",
    "            for line in f:\n",
    "                label, sentence = line.strip().split(\"\\t\")\n",
    "                phi = create_features(sentence)\n",
    "                y_pred = predict_one(w, phi)\n",
    "                y_true = int(label)\n",
    "                if y_pred != y_true:\n",
    "                    update_weights(w, phi, y_true)\n",
    "        print(f\"Epoch {epoch} completed\")\n",
    "    with open(model_file, \"w\") as f:\n",
    "        for name, value in w.items():\n",
    "            f.write(f\"{name}\\t{value}\\n\")\n",
    "            "
   ]
  },
  {
   "cell_type": "code",
   "execution_count": 6,
   "metadata": {},
   "outputs": [
    {
     "ename": "ValueError",
     "evalue": "invalid literal for int() with base 10: '--control=9001'",
     "output_type": "error",
     "traceback": [
      "\u001b[1;31m---------------------------------------------------------------------------\u001b[0m",
      "\u001b[1;31mValueError\u001b[0m                                Traceback (most recent call last)",
      "\u001b[1;32me:\\duc\\TAI_LIEU_HUST\\20222\\ttkt\\Code_intern\\The_Perceptron_Algorithm\\train_perceptron.ipynb Cell 6\u001b[0m in \u001b[0;36m<cell line: 1>\u001b[1;34m()\u001b[0m\n\u001b[0;32m      <a href='vscode-notebook-cell:/e%3A/duc/TAI_LIEU_HUST/20222/ttkt/Code_intern/The_Perceptron_Algorithm/train_perceptron.ipynb#W5sZmlsZQ%3D%3D?line=1'>2</a>\u001b[0m train_file \u001b[39m=\u001b[39m sys\u001b[39m.\u001b[39margv[\u001b[39m1\u001b[39m]\n\u001b[0;32m      <a href='vscode-notebook-cell:/e%3A/duc/TAI_LIEU_HUST/20222/ttkt/Code_intern/The_Perceptron_Algorithm/train_perceptron.ipynb#W5sZmlsZQ%3D%3D?line=2'>3</a>\u001b[0m model_file \u001b[39m=\u001b[39m sys\u001b[39m.\u001b[39margv[\u001b[39m2\u001b[39m]\n\u001b[1;32m----> <a href='vscode-notebook-cell:/e%3A/duc/TAI_LIEU_HUST/20222/ttkt/Code_intern/The_Perceptron_Algorithm/train_perceptron.ipynb#W5sZmlsZQ%3D%3D?line=3'>4</a>\u001b[0m num_epochs \u001b[39m=\u001b[39m \u001b[39mint\u001b[39;49m(sys\u001b[39m.\u001b[39;49margv[\u001b[39m3\u001b[39;49m])\n\u001b[0;32m      <a href='vscode-notebook-cell:/e%3A/duc/TAI_LIEU_HUST/20222/ttkt/Code_intern/The_Perceptron_Algorithm/train_perceptron.ipynb#W5sZmlsZQ%3D%3D?line=4'>5</a>\u001b[0m train_perceptron(train_file, model_file, num_epochs)\n",
      "\u001b[1;31mValueError\u001b[0m: invalid literal for int() with base 10: '--control=9001'"
     ]
    }
   ],
   "source": [
    "if __name__ == \"__main__\":\n",
    "    train_file = sys.argv[1]\n",
    "    model_file = sys.argv[2]\n",
    "    num_epochs = int(sys.argv[3])\n",
    "    train_perceptron(train_file, model_file, num_epochs)"
   ]
  }
 ],
 "metadata": {
  "kernelspec": {
   "display_name": "Python 3",
   "language": "python",
   "name": "python3"
  },
  "language_info": {
   "codemirror_mode": {
    "name": "ipython",
    "version": 3
   },
   "file_extension": ".py",
   "mimetype": "text/x-python",
   "name": "python",
   "nbconvert_exporter": "python",
   "pygments_lexer": "ipython3",
   "version": "3.10.5"
  },
  "orig_nbformat": 4
 },
 "nbformat": 4,
 "nbformat_minor": 2
}
