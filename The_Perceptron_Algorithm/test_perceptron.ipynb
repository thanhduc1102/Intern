{
 "cells": [
  {
   "cell_type": "code",
   "execution_count": 1,
   "metadata": {},
   "outputs": [],
   "source": [
    "import sys"
   ]
  },
  {
   "cell_type": "code",
   "execution_count": 2,
   "metadata": {},
   "outputs": [],
   "source": [
    "def predict_all(model_file, input_file):\n",
    "    w = {}\n",
    "    with open(model_file, \"r\") as f:\n",
    "        for line in f:\n",
    "            name, value = line.strip().split(\"\\t\")\n",
    "            w[name] = float(value)\n",
    "\n",
    "    with open(input_file, \"r\") as f:\n",
    "        for line in f:\n",
    "            phi = create_features(line.strip())\n",
    "            y_pred = predict_one(w, phi)\n",
    "            print(y_pred)\n"
   ]
  },
  {
   "cell_type": "code",
   "execution_count": 3,
   "metadata": {},
   "outputs": [],
   "source": [
    "def create_features(x):\n",
    "    phi = {}\n",
    "    words = x.strip().split()\n",
    "    for word in words:\n",
    "        phi[f\"UNI:{word}\"] = 1\n",
    "    return phi\n"
   ]
  },
  {
   "cell_type": "code",
   "execution_count": 4,
   "metadata": {},
   "outputs": [],
   "source": [
    "def predict_one(w, phi):\n",
    "    score = 0\n",
    "    for name, value in phi.items():\n",
    "        if name in w:\n",
    "            score += value * w[name]\n",
    "    if score >= 0:\n",
    "        return 1\n",
    "    else:\n",
    "        return -1\n"
   ]
  },
  {
   "cell_type": "code",
   "execution_count": 5,
   "metadata": {},
   "outputs": [
    {
     "ename": "FileNotFoundError",
     "evalue": "[Errno 2] No such file or directory: '--ip=127.0.0.1'",
     "output_type": "error",
     "traceback": [
      "\u001b[1;31m---------------------------------------------------------------------------\u001b[0m",
      "\u001b[1;31mFileNotFoundError\u001b[0m                         Traceback (most recent call last)",
      "\u001b[1;32me:\\duc\\TAI_LIEU_HUST\\20222\\ttkt\\The_Perceptron_Algorithm\\test_perceptron.ipynb Cell 5\u001b[0m in \u001b[0;36m<cell line: 1>\u001b[1;34m()\u001b[0m\n\u001b[0;32m      <a href='vscode-notebook-cell:/e%3A/duc/TAI_LIEU_HUST/20222/ttkt/The_Perceptron_Algorithm/test_perceptron.ipynb#W4sZmlsZQ%3D%3D?line=1'>2</a>\u001b[0m model_file \u001b[39m=\u001b[39m sys\u001b[39m.\u001b[39margv[\u001b[39m1\u001b[39m]\n\u001b[0;32m      <a href='vscode-notebook-cell:/e%3A/duc/TAI_LIEU_HUST/20222/ttkt/The_Perceptron_Algorithm/test_perceptron.ipynb#W4sZmlsZQ%3D%3D?line=2'>3</a>\u001b[0m input_file \u001b[39m=\u001b[39m sys\u001b[39m.\u001b[39margv[\u001b[39m2\u001b[39m]\n\u001b[1;32m----> <a href='vscode-notebook-cell:/e%3A/duc/TAI_LIEU_HUST/20222/ttkt/The_Perceptron_Algorithm/test_perceptron.ipynb#W4sZmlsZQ%3D%3D?line=3'>4</a>\u001b[0m predict_all(model_file, input_file)\n",
      "\u001b[1;32me:\\duc\\TAI_LIEU_HUST\\20222\\ttkt\\The_Perceptron_Algorithm\\test_perceptron.ipynb Cell 5\u001b[0m in \u001b[0;36mpredict_all\u001b[1;34m(model_file, input_file)\u001b[0m\n\u001b[0;32m      <a href='vscode-notebook-cell:/e%3A/duc/TAI_LIEU_HUST/20222/ttkt/The_Perceptron_Algorithm/test_perceptron.ipynb#W4sZmlsZQ%3D%3D?line=0'>1</a>\u001b[0m \u001b[39mdef\u001b[39;00m \u001b[39mpredict_all\u001b[39m(model_file, input_file):\n\u001b[0;32m      <a href='vscode-notebook-cell:/e%3A/duc/TAI_LIEU_HUST/20222/ttkt/The_Perceptron_Algorithm/test_perceptron.ipynb#W4sZmlsZQ%3D%3D?line=1'>2</a>\u001b[0m     w \u001b[39m=\u001b[39m {}\n\u001b[1;32m----> <a href='vscode-notebook-cell:/e%3A/duc/TAI_LIEU_HUST/20222/ttkt/The_Perceptron_Algorithm/test_perceptron.ipynb#W4sZmlsZQ%3D%3D?line=2'>3</a>\u001b[0m     \u001b[39mwith\u001b[39;00m \u001b[39mopen\u001b[39;49m(model_file, \u001b[39m\"\u001b[39;49m\u001b[39mr\u001b[39;49m\u001b[39m\"\u001b[39;49m) \u001b[39mas\u001b[39;00m f:\n\u001b[0;32m      <a href='vscode-notebook-cell:/e%3A/duc/TAI_LIEU_HUST/20222/ttkt/The_Perceptron_Algorithm/test_perceptron.ipynb#W4sZmlsZQ%3D%3D?line=3'>4</a>\u001b[0m         \u001b[39mfor\u001b[39;00m line \u001b[39min\u001b[39;00m f:\n\u001b[0;32m      <a href='vscode-notebook-cell:/e%3A/duc/TAI_LIEU_HUST/20222/ttkt/The_Perceptron_Algorithm/test_perceptron.ipynb#W4sZmlsZQ%3D%3D?line=4'>5</a>\u001b[0m             name, value \u001b[39m=\u001b[39m line\u001b[39m.\u001b[39mstrip()\u001b[39m.\u001b[39msplit(\u001b[39m\"\u001b[39m\u001b[39m\\t\u001b[39;00m\u001b[39m\"\u001b[39m)\n",
      "\u001b[1;31mFileNotFoundError\u001b[0m: [Errno 2] No such file or directory: '--ip=127.0.0.1'"
     ]
    },
    {
     "ename": "",
     "evalue": "",
     "output_type": "error",
     "traceback": [
      "\u001b[1;31mThe Kernel crashed while executing code in the the current cell or a previous cell. Please review the code in the cell(s) to identify a possible cause of the failure. Click <a href='https://aka.ms/vscodeJupyterKernelCrash'>here</a> for more info. View Jupyter <a href='command:jupyter.viewOutput'>log</a> for further details."
     ]
    }
   ],
   "source": [
    "if __name__ == \"__main__\":\n",
    "    model_file = sys.argv[1]\n",
    "    input_file = sys.argv[2]\n",
    "    predict_all(model_file, input_file)\n"
   ]
  },
  {
   "cell_type": "code",
   "execution_count": null,
   "metadata": {},
   "outputs": [],
   "source": []
  }
 ],
 "metadata": {
  "kernelspec": {
   "display_name": "Python 3",
   "language": "python",
   "name": "python3"
  },
  "language_info": {
   "codemirror_mode": {
    "name": "ipython",
    "version": 3
   },
   "file_extension": ".py",
   "mimetype": "text/x-python",
   "name": "python",
   "nbconvert_exporter": "python",
   "pygments_lexer": "ipython3",
   "version": "3.10.5"
  },
  "orig_nbformat": 4
 },
 "nbformat": 4,
 "nbformat_minor": 2
}
