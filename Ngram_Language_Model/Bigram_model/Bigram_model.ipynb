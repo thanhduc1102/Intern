{
 "cells": [
  {
   "cell_type": "code",
   "execution_count": 1,
   "metadata": {},
   "outputs": [],
   "source": [
    "import math"
   ]
  },
  {
   "cell_type": "code",
   "execution_count": 2,
   "metadata": {},
   "outputs": [],
   "source": [
    "def train_bigram(training_file, model_file):\n",
    "    counts = {}\n",
    "    context_counts = {}\n",
    "    \n",
    "    with open(training_file, 'r', encoding='utf-8') as f:\n",
    "        for line in f:\n",
    "            words= ['<s>'] + line.strip().lower().split() + ['</s>']\n",
    "            for i in range(1, len(words)):\n",
    "                bigram = ' '.join(words[i-1:i+1])\n",
    "                counts[bigram] = counts.get(bigram, 0) + 1\n",
    "                context_counts[words[i-1]] = context_counts.get(words[i-1], 0) + 1\n",
    "                counts[words[i]] = counts.get(words[i], 0) + 1\n",
    "                context_counts[''] = context_counts.get('', 0) + 1\n",
    "    with open(model_file, 'w', encoding='utf-8') as f:\n",
    "        for bigram, count in counts.items():\n",
    "            words = bigram.split()\n",
    "            context = ' '.join(words[:-1])  \n",
    "            probability = count / context_counts['']\n",
    "            f.write('{} {}\\n'.format(bigram, probability))"
   ]
  },
  {
   "cell_type": "code",
   "execution_count": 3,
   "metadata": {},
   "outputs": [],
   "source": [
    "def test_bigram(test_file, model_file, lambda1, lambda2):\n",
    "    probs = {}\n",
    "    with open(model_file, 'r', encoding='utf-8') as f:\n",
    "        for line in f:\n",
    "            bigram=' '.join(line.strip().split()[:-1])\n",
    "            prob = line.strip().split()[-1]\n",
    "            probs[bigram] = float(prob)\n",
    "    V=1000000 # vocabulary size\n",
    "    W=0 # number of words\n",
    "    H=0 \n",
    "    \n",
    "    with open(test_file, 'r', encoding='utf-8') as f:\n",
    "        for line in f:\n",
    "            words = ['<s>'] + line.strip().lower().split() + ['</s>']\n",
    "            for i in range(1, len(words)):\n",
    "                P1 = lambda1 * probs.get(words[i], 0) + (1 - lambda1) / V\n",
    "                P2 = lambda2 * probs.get('{} {}'.format(words[i-1], words[i]), 0) + (1 - lambda2) * P1\n",
    "                H -= math.log2(P2)\n",
    "                W += 1\n",
    "    entropy = H / W\n",
    "    return entropy"
   ]
  },
  {
   "cell_type": "code",
   "execution_count": 4,
   "metadata": {},
   "outputs": [
    {
     "name": "stdout",
     "output_type": "stream",
     "text": [
      "entropy = 15.428299\n"
     ]
    }
   ],
   "source": [
    "train_file = './train.txt'\n",
    "test_file = './test.txt'\n",
    "model_file = './model.txt'\n",
    "\n",
    "train_bigram(train_file, model_file)\n",
    "\n",
    "lambda1=0.8\n",
    "lambda2=0.2\n",
    "entropy = test_bigram(test_file, model_file, lambda1, lambda2)\n",
    "print(f'entropy = {entropy:.6f}')   "
   ]
  }
 ],
 "metadata": {
  "kernelspec": {
   "display_name": "Python 3",
   "language": "python",
   "name": "python3"
  },
  "language_info": {
   "codemirror_mode": {
    "name": "ipython",
    "version": 3
   },
   "file_extension": ".py",
   "mimetype": "text/x-python",
   "name": "python",
   "nbconvert_exporter": "python",
   "pygments_lexer": "ipython3",
   "version": "3.10.5"
  },
  "orig_nbformat": 4,
  "vscode": {
   "interpreter": {
    "hash": "6da55f2cfb6b22d634df0a5b296f30bd4a8db60708f5183cf4daebd7ac8c909e"
   }
  }
 },
 "nbformat": 4,
 "nbformat_minor": 2
}
