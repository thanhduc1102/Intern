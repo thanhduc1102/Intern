{
 "cells": [
  {
   "cell_type": "code",
   "execution_count": 4,
   "metadata": {},
   "outputs": [],
   "source": [
    "import argparse\n",
    "import os\n",
    "import json\n",
    "from collections import defaultdict\n",
    "import math"
   ]
  },
  {
   "cell_type": "code",
   "execution_count": 5,
   "metadata": {},
   "outputs": [],
   "source": [
    "def train_model(training_file, model_file, n):\n",
    "    \"\"\"Train a language model.\n",
    "\n",
    "    Args:\n",
    "        training_file (str): Path to the training file.\n",
    "        model_file (str): Path to the model file.\n",
    "        n (int): The n-gram order.\n",
    "    \"\"\"\n",
    "    #initialize the dictionary that will hold the n-grams and their counts\n",
    "    model = defaultdict(lambda: defaultdict(int))\n",
    "    \n",
    "    #open the training file and iterate through the lines\n",
    "    with open(training_file, 'r', encoding='utf-8') as f:\n",
    "        for line in f:\n",
    "            #split the line into words\n",
    "            line = line.strip().lower()\n",
    "            #skip empty lines\n",
    "            if not line:\n",
    "                continue\n",
    "            #pad the sentence with <s> and </s> tokens\n",
    "            line = f'<s> {line} </s>'\n",
    "            #split the line into words\n",
    "            words = line.split()\n",
    "            #iterate through the words and update the n-grams\n",
    "            for i in range(len(words) - n + 1):\n",
    "                ngram = ' '.join(words[i:i+n-1])\n",
    "                next_word = words[i+n-1]\n",
    "                model[ngram][next_word] += 1\n",
    "    with open(model_file, 'w', encoding='utf-8') as f:\n",
    "        json.dump(model, f)\n",
    "    "
   ]
  },
  {
   "cell_type": "code",
   "execution_count": 6,
   "metadata": {},
   "outputs": [],
   "source": [
    "def load_model(model_file):\n",
    "    \"\"\"Load a language model from a file.\n",
    "\n",
    "    Args:\n",
    "        model_file (str): Path to the model file.\n",
    "\n",
    "    Returns:\n",
    "        model (dict): The language model.\n",
    "    \"\"\"\n",
    "    with open(model_file, 'r', encoding='utf-8') as f:\n",
    "        model = json.load(f)\n",
    "    return defaultdict(lambda: defaultdict(int), model)"
   ]
  },
  {
   "cell_type": "code",
   "execution_count": 8,
   "metadata": {},
   "outputs": [],
   "source": [
    "def test_model(test_file, model, n):\n",
    "    \"\"\"Test a language model.\n",
    "\n",
    "    Args:\n",
    "        test_file (str): Path to the test file.\n",
    "        model (dict): The language model.\n",
    "        n (int): The n-gram order.\n",
    "        return: the preplexity score\n",
    "    \"\"\"\n",
    "    log_prob = 0.0\n",
    "    #open the test file and iterate through the lines\n",
    "    with open(test_file, 'r', encoding='utf-8') as f:\n",
    "        for line in f:\n",
    "            #split the line into words\n",
    "            line = line.strip().lower()\n",
    "            #skip empty lines\n",
    "            if not line:\n",
    "                continue\n",
    "            #pad the sentence with <s> and </s> tokens\n",
    "            line = f'<s> {line} </s>'\n",
    "            #split the line into words\n",
    "            words = line.split()\n",
    "            #iterate through the words and update the n-grams\n",
    "            for i in range(len(words) - n + 1):\n",
    "                ngram = ' '.join(words[i:i+n-1])\n",
    "                next_word = words[i+n-1]\n",
    "                #update the log probability\n",
    "                log_prob += model[ngram][next_word]\n",
    "    return log_prob"
   ]
  },
  {
   "cell_type": "code",
   "execution_count": null,
   "metadata": {},
   "outputs": [],
   "source": []
  }
 ],
 "metadata": {
  "kernelspec": {
   "display_name": "Python 3",
   "language": "python",
   "name": "python3"
  },
  "language_info": {
   "codemirror_mode": {
    "name": "ipython",
    "version": 3
   },
   "file_extension": ".py",
   "mimetype": "text/x-python",
   "name": "python",
   "nbconvert_exporter": "python",
   "pygments_lexer": "ipython3",
   "version": "3.10.5"
  },
  "orig_nbformat": 4
 },
 "nbformat": 4,
 "nbformat_minor": 2
}
