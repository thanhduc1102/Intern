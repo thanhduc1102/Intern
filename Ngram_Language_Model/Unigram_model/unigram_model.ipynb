{
 "cells": [
  {
   "cell_type": "code",
   "execution_count": 1,
   "metadata": {},
   "outputs": [],
   "source": [
    "import math"
   ]
  },
  {
   "cell_type": "code",
   "execution_count": 2,
   "metadata": {},
   "outputs": [],
   "source": [
    "def train_unigram(training_file, model_file):\n",
    "    counts = {}\n",
    "    total_count = 0\n",
    "    \n",
    "    with open(training_file, 'r', encoding='utf-8') as f:\n",
    "        for line in f:\n",
    "            words = line.lower().split()\n",
    "            words.append('</s>')\n",
    "            for word in words:\n",
    "                if word in counts:\n",
    "                    counts[word] += 1\n",
    "                else:\n",
    "                    counts[word] = 1\n",
    "                total_count += 1 \n",
    "                \n",
    "    with open(model_file, 'w', encoding='utf-8') as f:\n",
    "        for word, count in counts.items():\n",
    "            prob = count / total_count\n",
    "            f.write('{} {}\\n'.format(word, prob))\n",
    "    return counts, total_count"
   ]
  },
  {
   "cell_type": "code",
   "execution_count": 3,
   "metadata": {},
   "outputs": [],
   "source": [
    "def test_unigram(model_file, test_file):\n",
    "    lambda1=0.95\n",
    "    lambda_unk=1-lambda1\n",
    "    V=1000000\n",
    "    probabilities = {}\n",
    "    with open(model_file, 'r', encoding='utf-8') as f:\n",
    "        for line in f:\n",
    "            word, prob = line.split()\n",
    "            probabilities[word] = float(prob)\n",
    "    W=0 #total words\n",
    "    H=0\n",
    "    unk=0   #total unknown words\n",
    "    with open(test_file, 'r', encoding='utf-8') as f:\n",
    "        for line in f:\n",
    "            words = line.lower().split()\n",
    "            words.append('</s>')\n",
    "            for word in words:\n",
    "                W+=1\n",
    "                P=lambda_unk/V\n",
    "                if word in probabilities:\n",
    "                    P+=lambda1*probabilities[word]\n",
    "                else:\n",
    "                    unk+=1\n",
    "                H -= math.log2(P)\n",
    "    print('entropy = {:.6f}'.format(H/W))   #The average entropy of the test file\n",
    "    print('coverage = {:.2f}%'.format((W-unk)/W*100))   #The percentage of known words in the corpus\n"
   ]
  },
  {
   "cell_type": "code",
   "execution_count": 4,
   "metadata": {},
   "outputs": [
    {
     "name": "stdout",
     "output_type": "stream",
     "text": [
      "entropy = 15.107701\n",
      "coverage = 51.22%\n"
     ]
    }
   ],
   "source": [
    "train_unigram('./training_data.txt', './unigram_model.txt')\n",
    "test_unigram('./unigram_model.txt', './test_data.txt')"
   ]
  },
  {
   "cell_type": "code",
   "execution_count": null,
   "metadata": {},
   "outputs": [],
   "source": []
  }
 ],
 "metadata": {
  "kernelspec": {
   "display_name": "Python 3",
   "language": "python",
   "name": "python3"
  },
  "language_info": {
   "codemirror_mode": {
    "name": "ipython",
    "version": 3
   },
   "file_extension": ".py",
   "mimetype": "text/x-python",
   "name": "python",
   "nbconvert_exporter": "python",
   "pygments_lexer": "ipython3",
   "version": "3.10.5"
  },
  "orig_nbformat": 4
 },
 "nbformat": 4,
 "nbformat_minor": 2
}
