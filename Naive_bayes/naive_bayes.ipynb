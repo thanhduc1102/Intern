{
 "cells": [
  {
   "cell_type": "code",
   "execution_count": 1,
   "metadata": {},
   "outputs": [],
   "source": [
    "import pandas as pd\n",
    "import random\n",
    "import matplotlib.pyplot as plt\n",
    "import seaborn as sns\n",
    "from sklearn.model_selection import train_test_split\n",
    "import re\n",
    "import nltk\n",
    "from nltk.corpus import stopwords\n",
    "stop_words = set(stopwords.words('english'))\n",
    "from nltk.tokenize import word_tokenize\n",
    "from nltk.stem import WordNetLemmatizer\n",
    "from nltk.stem import PorterStemmer\n",
    "from sklearn.feature_extraction.text import TfidfVectorizer"
   ]
  },
  {
   "cell_type": "code",
   "execution_count": 2,
   "metadata": {},
   "outputs": [
    {
     "data": {
      "text/html": [
       "<div>\n",
       "<style scoped>\n",
       "    .dataframe tbody tr th:only-of-type {\n",
       "        vertical-align: middle;\n",
       "    }\n",
       "\n",
       "    .dataframe tbody tr th {\n",
       "        vertical-align: top;\n",
       "    }\n",
       "\n",
       "    .dataframe thead th {\n",
       "        text-align: right;\n",
       "    }\n",
       "</style>\n",
       "<table border=\"1\" class=\"dataframe\">\n",
       "  <thead>\n",
       "    <tr style=\"text-align: right;\">\n",
       "      <th></th>\n",
       "      <th>1</th>\n",
       "      <th>2</th>\n",
       "      <th>3</th>\n",
       "      <th>4</th>\n",
       "      <th>5</th>\n",
       "      <th>6</th>\n",
       "      <th>7</th>\n",
       "    </tr>\n",
       "  </thead>\n",
       "  <tbody>\n",
       "    <tr>\n",
       "      <th>0</th>\n",
       "      <td>Crude oil prices mixed in Asia trade</td>\n",
       "      <td>http://www.thehindubusinessline.com/markets/co...</td>\n",
       "      <td>Hindu Business Line</td>\n",
       "      <td>b</td>\n",
       "      <td>ddeQnoQqipb792MMTE5lQPdGPQTDM</td>\n",
       "      <td>www.thehindubusinessline.com</td>\n",
       "      <td>1396067015761</td>\n",
       "    </tr>\n",
       "    <tr>\n",
       "      <th>1</th>\n",
       "      <td>Amazon launches shopping via Twitter</td>\n",
       "      <td>http://www.thebookseller.com/news/amazon-launc...</td>\n",
       "      <td>The Bookseller</td>\n",
       "      <td>b</td>\n",
       "      <td>dO5MVKq5OUcLRtMqUbxpAnmdaIkJM</td>\n",
       "      <td>www.thebookseller.com</td>\n",
       "      <td>1399371280814</td>\n",
       "    </tr>\n",
       "    <tr>\n",
       "      <th>2</th>\n",
       "      <td>E-Cigarettes May Not Help Smokers Quit</td>\n",
       "      <td>http://www.rttnews.com/2291816/e-cigarettes-ma...</td>\n",
       "      <td>RTT News</td>\n",
       "      <td>m</td>\n",
       "      <td>dPNqfj9B3-OuLSMwrQqIf-pNuYhWM</td>\n",
       "      <td>www.rttnews.com</td>\n",
       "      <td>1395780154077</td>\n",
       "    </tr>\n",
       "    <tr>\n",
       "      <th>3</th>\n",
       "      <td>Mortgage Rates Higher as Pre-ECB Volatility Ra...</td>\n",
       "      <td>http://www.mortgagenewsdaily.com/consumer_rate...</td>\n",
       "      <td>Mortgage News Daily</td>\n",
       "      <td>b</td>\n",
       "      <td>dLLmuV7pAbIxUoM_GdCJpbx_o3WvM</td>\n",
       "      <td>www.mortgagenewsdaily.com</td>\n",
       "      <td>1401882959590</td>\n",
       "    </tr>\n",
       "    <tr>\n",
       "      <th>4</th>\n",
       "      <td>Best dressed: Men's Wearhouse to buy Jos. A. B...</td>\n",
       "      <td>http://www.10news.com/news/best-dressed-mens-w...</td>\n",
       "      <td>10News</td>\n",
       "      <td>b</td>\n",
       "      <td>do6Vg-oWU1TOTeMhVmlSXEHyzSaoM</td>\n",
       "      <td>www.10news.com</td>\n",
       "      <td>1394581531954</td>\n",
       "    </tr>\n",
       "  </tbody>\n",
       "</table>\n",
       "</div>"
      ],
      "text/plain": [
       "                                                   1  \\\n",
       "0               Crude oil prices mixed in Asia trade   \n",
       "1               Amazon launches shopping via Twitter   \n",
       "2             E-Cigarettes May Not Help Smokers Quit   \n",
       "3  Mortgage Rates Higher as Pre-ECB Volatility Ra...   \n",
       "4  Best dressed: Men's Wearhouse to buy Jos. A. B...   \n",
       "\n",
       "                                                   2                    3  4  \\\n",
       "0  http://www.thehindubusinessline.com/markets/co...  Hindu Business Line  b   \n",
       "1  http://www.thebookseller.com/news/amazon-launc...       The Bookseller  b   \n",
       "2  http://www.rttnews.com/2291816/e-cigarettes-ma...             RTT News  m   \n",
       "3  http://www.mortgagenewsdaily.com/consumer_rate...  Mortgage News Daily  b   \n",
       "4  http://www.10news.com/news/best-dressed-mens-w...               10News  b   \n",
       "\n",
       "                               5                             6              7  \n",
       "0  ddeQnoQqipb792MMTE5lQPdGPQTDM  www.thehindubusinessline.com  1396067015761  \n",
       "1  dO5MVKq5OUcLRtMqUbxpAnmdaIkJM         www.thebookseller.com  1399371280814  \n",
       "2  dPNqfj9B3-OuLSMwrQqIf-pNuYhWM               www.rttnews.com  1395780154077  \n",
       "3  dLLmuV7pAbIxUoM_GdCJpbx_o3WvM     www.mortgagenewsdaily.com  1401882959590  \n",
       "4  do6Vg-oWU1TOTeMhVmlSXEHyzSaoM                www.10news.com  1394581531954  "
      ]
     },
     "execution_count": 2,
     "metadata": {},
     "output_type": "execute_result"
    }
   ],
   "source": [
    "data_df=pd.read_csv('newsCorpora.csv',sep='\\t',header=None)\n",
    "data_df.drop(data_df.columns[0], axis=1, inplace=True)\n",
    "rows = list(range(len(data_df.index)))\n",
    "random.shuffle(rows)\n",
    "data_df = data_df.iloc[rows]\n",
    "data_df = data_df.reset_index(drop=True)\n",
    "data_df.head()"
   ]
  },
  {
   "cell_type": "code",
   "execution_count": 3,
   "metadata": {},
   "outputs": [
    {
     "name": "stdout",
     "output_type": "stream",
     "text": [
      "<class 'pandas.core.frame.DataFrame'>\n",
      "RangeIndex: 422419 entries, 0 to 422418\n",
      "Data columns (total 7 columns):\n",
      " #   Column  Non-Null Count   Dtype   \n",
      "---  ------  --------------   -----   \n",
      " 0   1       422419 non-null  object  \n",
      " 1   2       422419 non-null  object  \n",
      " 2   3       422417 non-null  object  \n",
      " 3   4       422419 non-null  category\n",
      " 4   5       422419 non-null  object  \n",
      " 5   6       422419 non-null  object  \n",
      " 6   7       422419 non-null  int64   \n",
      "dtypes: category(1), int64(1), object(5)\n",
      "memory usage: 19.7+ MB\n"
     ]
    }
   ],
   "source": [
    "data_df.iloc[:, 3] = data_df.iloc[:, 3].astype('category')\n",
    "data_df.info()"
   ]
  },
  {
   "cell_type": "code",
   "execution_count": 4,
   "metadata": {},
   "outputs": [
    {
     "data": {
      "text/plain": [
       "Text(0.5, 1.0, 'Distribution of news categories')"
      ]
     },
     "execution_count": 4,
     "metadata": {},
     "output_type": "execute_result"
    },
    {
     "data": {
      "image/png": "[encoded data removed]",
      "text/plain": [
       "<Figure size 432x288 with 1 Axes>"
      ]
     },
     "metadata": {
      "needs_background": "light"
     },
     "output_type": "display_data"
    }
   ],
   "source": [
    "sns.countplot(x=data_df.iloc[:, 3], data=data_df)\n",
    "plt.title('Distribution of news categories')"
   ]
  },
  {
   "cell_type": "code",
   "execution_count": 5,
   "metadata": {},
   "outputs": [],
   "source": [
    "def data_processing(text):\n",
    "    text = text.lower()\n",
    "    text_tokens = word_tokenize(text)\n",
    "    filtered_text = [word for word in text_tokens if word not in stop_words]\n",
    "    stemmer = PorterStemmer()\n",
    "    stemmed_text = [stemmer.stem(word) for word in filtered_text]\n",
    "    lemmatizer = WordNetLemmatizer()\n",
    "    lemmatized_text = [lemmatizer.lemmatize(word) for word in stemmed_text]\n",
    "    return \" \".join(lemmatized_text)"
   ]
  },
  {
   "cell_type": "code",
   "execution_count": 38,
   "metadata": {},
   "outputs": [],
   "source": [
    "X = data_df.iloc[:, 0].apply(data_processing)\n",
    "Y = data_df.iloc[:, 3]\n"
   ]
  },
  {
   "cell_type": "code",
   "execution_count": 39,
   "metadata": {},
   "outputs": [
    {
     "data": {
      "text/html": [
       "<div>\n",
       "<style scoped>\n",
       "    .dataframe tbody tr th:only-of-type {\n",
       "        vertical-align: middle;\n",
       "    }\n",
       "\n",
       "    .dataframe tbody tr th {\n",
       "        vertical-align: top;\n",
       "    }\n",
       "\n",
       "    .dataframe thead th {\n",
       "        text-align: right;\n",
       "    }\n",
       "</style>\n",
       "<table border=\"1\" class=\"dataframe\">\n",
       "  <thead>\n",
       "    <tr style=\"text-align: right;\">\n",
       "      <th></th>\n",
       "      <th>title</th>\n",
       "      <th>category</th>\n",
       "      <th>word_count</th>\n",
       "    </tr>\n",
       "  </thead>\n",
       "  <tbody>\n",
       "    <tr>\n",
       "      <th>0</th>\n",
       "      <td>crude oil price mix asia trade</td>\n",
       "      <td>0</td>\n",
       "      <td>6</td>\n",
       "    </tr>\n",
       "    <tr>\n",
       "      <th>1</th>\n",
       "      <td>amazon launch shop via twitter</td>\n",
       "      <td>0</td>\n",
       "      <td>5</td>\n",
       "    </tr>\n",
       "    <tr>\n",
       "      <th>2</th>\n",
       "      <td>e-cigarett may help smoker quit</td>\n",
       "      <td>3</td>\n",
       "      <td>5</td>\n",
       "    </tr>\n",
       "    <tr>\n",
       "      <th>3</th>\n",
       "      <td>mortgag rate higher pre-ecb volatil ramp</td>\n",
       "      <td>0</td>\n",
       "      <td>6</td>\n",
       "    </tr>\n",
       "    <tr>\n",
       "      <th>4</th>\n",
       "      <td>best dress : men 's wearhous buy jo . a. bank ...</td>\n",
       "      <td>0</td>\n",
       "      <td>13</td>\n",
       "    </tr>\n",
       "  </tbody>\n",
       "</table>\n",
       "</div>"
      ],
      "text/plain": [
       "                                               title category  word_count\n",
       "0                     crude oil price mix asia trade        0           6\n",
       "1                     amazon launch shop via twitter        0           5\n",
       "2                    e-cigarett may help smoker quit        3           5\n",
       "3           mortgag rate higher pre-ecb volatil ramp        0           6\n",
       "4  best dress : men 's wearhous buy jo . a. bank ...        0          13"
      ]
     },
     "execution_count": 39,
     "metadata": {},
     "output_type": "execute_result"
    }
   ],
   "source": [
    "data = pd.DataFrame()\n",
    "data['title'] = X\n",
    "data['category'] = Y\n",
    "data.category.replace({'b': 0, 't': 1, 'e': 2, 'm': 3}, inplace=True)\n",
    "data['word_count'] = data['title'].apply(lambda x: len(str(x).split(\" \")))\n",
    "data.head()\n"
   ]
  },
  {
   "cell_type": "code",
   "execution_count": 40,
   "metadata": {},
   "outputs": [
    {
     "name": "stdout",
     "output_type": "stream",
     "text": [
      "Number of duplicate rows:  21082\n"
     ]
    }
   ],
   "source": [
    "duplicate_count = data.duplicated().sum()\n",
    "print(\"Number of duplicate rows: \", duplicate_count)"
   ]
  },
  {
   "cell_type": "code",
   "execution_count": 41,
   "metadata": {},
   "outputs": [
    {
     "data": {
      "text/plain": [
       "(400350, 3)"
      ]
     },
     "execution_count": 41,
     "metadata": {},
     "output_type": "execute_result"
    }
   ],
   "source": [
    "data = data.drop_duplicates('title')\n",
    "data.shape"
   ]
  },
  {
   "cell_type": "code",
   "execution_count": 44,
   "metadata": {},
   "outputs": [],
   "source": [
    "X = data['title']\n",
    "Y = data['category']\n",
    "vect = TfidfVectorizer()\n",
    "X = vect.fit_transform(X)\n"
   ]
  },
  {
   "cell_type": "code",
   "execution_count": 60,
   "metadata": {},
   "outputs": [
    {
     "name": "stdout",
     "output_type": "stream",
     "text": [
      "  (0, 27655)\t0.48076321917527315\n",
      "  (0, 30520)\t0.3242375328235348\n",
      "  (0, 17332)\t0.34757631158146407\n",
      "  (0, 14247)\t0.45607217672321304\n",
      "  (0, 27000)\t0.3516039480248609\n",
      "  (0, 9040)\t0.3438631030143442\n",
      "  (0, 29438)\t0.3050548422198675\n",
      "  (1, 12372)\t0.45204115453548194\n",
      "  (1, 10706)\t0.35342818893591355\n",
      "  (1, 30222)\t0.31741186949420597\n",
      "  (1, 15343)\t0.3517742007250846\n",
      "  (1, 37654)\t0.3035442211436519\n",
      "  (1, 26168)\t0.349130970848369\n",
      "  (1, 26134)\t0.33156561465013995\n",
      "  (1, 29635)\t0.3496922087587507\n",
      "  (2, 30622)\t0.4747498254210418\n",
      "  (2, 14762)\t0.4128848251988022\n",
      "  (2, 23876)\t0.4076339290452882\n",
      "  (2, 21775)\t0.3426629167509797\n",
      "  (2, 26047)\t0.3326756239385913\n",
      "  (2, 17335)\t0.4581291946548768\n",
      "  (3, 12248)\t0.43601713517469515\n",
      "  (3, 14951)\t0.3865882851362821\n",
      "  (3, 25890)\t0.4441334792133391\n",
      "  (3, 6194)\t0.35713386536486025\n",
      "  :\t:\n",
      "  (320275, 37643)\t0.2781701391094701\n",
      "  (320276, 9626)\t0.4976857614235863\n",
      "  (320276, 16410)\t0.42825404821493457\n",
      "  (320276, 37406)\t0.35728337528864007\n",
      "  (320276, 20871)\t0.3907132846524116\n",
      "  (320276, 12537)\t0.3781500181737671\n",
      "  (320276, 32656)\t0.27666008743580395\n",
      "  (320276, 23971)\t0.26279427653093745\n",
      "  (320277, 26980)\t0.5505550156035215\n",
      "  (320277, 33924)\t0.44942826069090025\n",
      "  (320277, 7038)\t0.4007334476145347\n",
      "  (320277, 37310)\t0.44942826069090025\n",
      "  (320277, 19360)\t0.363772395518791\n",
      "  (320278, 31328)\t0.4518859411940607\n",
      "  (320278, 19109)\t0.5293180193517547\n",
      "  (320278, 15266)\t0.44758544278415996\n",
      "  (320278, 19606)\t0.472864890590053\n",
      "  (320278, 40710)\t0.30279959906786197\n",
      "  (320279, 22292)\t0.5614303559662521\n",
      "  (320279, 21258)\t0.5496273323577706\n",
      "  (320279, 40091)\t0.29395556425636776\n",
      "  (320279, 16308)\t0.2940684884874225\n",
      "  (320279, 27000)\t0.2717297479359684\n",
      "  (320279, 24621)\t0.2400339731678631\n",
      "  (320279, 28507)\t0.2799397025400928\n"
     ]
    }
   ],
   "source": [
    "x_train, x_test, y_train, y_test = train_test_split(X, Y, test_size=0.2, random_state=42)\n",
    "# x_test, x_val, y_test, y_val = train_test_split(x_test, y_test, test_size=0.5, random_state=42)\n",
    "print(x_train)"
   ]
  },
  {
   "cell_type": "code",
   "execution_count": 61,
   "metadata": {},
   "outputs": [],
   "source": [
    "from sklearn.naive_bayes import MultinomialNB\n",
    "from sklearn.metrics import accuracy_score, confusion_matrix, classification_report\n",
    "import warnings\n",
    "warnings.filterwarnings('ignore')"
   ]
  },
  {
   "cell_type": "code",
   "execution_count": 62,
   "metadata": {},
   "outputs": [
    {
     "name": "stdout",
     "output_type": "stream",
     "text": [
      "Test accuracy: 92.21%\n"
     ]
    }
   ],
   "source": [
    "mnb = MultinomialNB()\n",
    "mnb.fit(x_train, y_train)\n",
    "test_pred = mnb.predict(x_test)\n",
    "acc = accuracy_score(y_test, test_pred)\n",
    "print(\"Test accuracy: {:.2f}%\".format(acc*100))"
   ]
  },
  {
   "cell_type": "code",
   "execution_count": 57,
   "metadata": {},
   "outputs": [
    {
     "name": "stdout",
     "output_type": "stream",
     "text": [
      "Validation accuracy: 92.36%\n"
     ]
    }
   ],
   "source": [
    "# vali_pred = mnb.predict(x_val)\n",
    "# acc = accuracy_score(y_val, vali_pred)\n",
    "# print(\"Validation accuracy: {:.2f}%\".format(acc*100))"
   ]
  },
  {
   "cell_type": "code",
   "execution_count": 64,
   "metadata": {},
   "outputs": [
    {
     "name": "stdout",
     "output_type": "stream",
     "text": [
      "              precision    recall  f1-score   support\n",
      "\n",
      "           0       0.89      0.91      0.90     22012\n",
      "           1       0.90      0.90      0.90     20538\n",
      "           2       0.95      0.97      0.96     28944\n",
      "           3       0.96      0.84      0.90      8576\n",
      "\n",
      "    accuracy                           0.92     80070\n",
      "   macro avg       0.93      0.91      0.92     80070\n",
      "weighted avg       0.92      0.92      0.92     80070\n",
      "\n",
      "\n",
      "\n",
      "[[20116  1294   495   107]\n",
      " [ 1481 18456   520    81]\n",
      " [  390   438 28039    77]\n",
      " [  598   236   522  7220]]\n"
     ]
    }
   ],
   "source": [
    "print(classification_report(y_test, test_pred))\n",
    "print('\\n')\n",
    "print(confusion_matrix(y_test, test_pred))"
   ]
  },
  {
   "cell_type": "code",
   "execution_count": 66,
   "metadata": {},
   "outputs": [
    {
     "name": "stdout",
     "output_type": "stream",
     "text": [
      "Fitting 5 folds for each of 10 candidates, totalling 50 fits\n",
      "[CV 1/5] END ........alpha=0.01, fit_prior=True;, score=0.924 total time=   0.1s\n",
      "[CV 2/5] END ........alpha=0.01, fit_prior=True;, score=0.922 total time=   0.1s\n",
      "[CV 3/5] END ........alpha=0.01, fit_prior=True;, score=0.923 total time=   0.0s\n",
      "[CV 4/5] END ........alpha=0.01, fit_prior=True;, score=0.924 total time=   0.0s\n",
      "[CV 5/5] END ........alpha=0.01, fit_prior=True;, score=0.923 total time=   0.1s\n",
      "[CV 1/5] END .......alpha=0.01, fit_prior=False;, score=0.923 total time=   0.0s\n",
      "[CV 2/5] END .......alpha=0.01, fit_prior=False;, score=0.921 total time=   0.1s\n",
      "[CV 3/5] END .......alpha=0.01, fit_prior=False;, score=0.921 total time=   0.1s\n",
      "[CV 4/5] END .......alpha=0.01, fit_prior=False;, score=0.923 total time=   0.1s\n",
      "[CV 5/5] END .......alpha=0.01, fit_prior=False;, score=0.923 total time=   0.0s\n",
      "[CV 1/5] END .........alpha=0.1, fit_prior=True;, score=0.927 total time=   0.1s\n",
      "[CV 2/5] END .........alpha=0.1, fit_prior=True;, score=0.925 total time=   0.1s\n",
      "[CV 3/5] END .........alpha=0.1, fit_prior=True;, score=0.926 total time=   0.1s\n",
      "[CV 4/5] END .........alpha=0.1, fit_prior=True;, score=0.927 total time=   0.0s\n",
      "[CV 5/5] END .........alpha=0.1, fit_prior=True;, score=0.926 total time=   0.1s\n",
      "[CV 1/5] END ........alpha=0.1, fit_prior=False;, score=0.925 total time=   0.1s\n",
      "[CV 2/5] END ........alpha=0.1, fit_prior=False;, score=0.923 total time=   0.0s\n",
      "[CV 3/5] END ........alpha=0.1, fit_prior=False;, score=0.924 total time=   0.0s\n",
      "[CV 4/5] END ........alpha=0.1, fit_prior=False;, score=0.925 total time=   0.1s\n",
      "[CV 5/5] END ........alpha=0.1, fit_prior=False;, score=0.925 total time=   0.0s\n",
      "[CV 1/5] END .........alpha=0.5, fit_prior=True;, score=0.926 total time=   0.0s\n",
      "[CV 2/5] END .........alpha=0.5, fit_prior=True;, score=0.923 total time=   0.0s\n",
      "[CV 3/5] END .........alpha=0.5, fit_prior=True;, score=0.925 total time=   0.1s\n",
      "[CV 4/5] END .........alpha=0.5, fit_prior=True;, score=0.926 total time=   0.1s\n",
      "[CV 5/5] END .........alpha=0.5, fit_prior=True;, score=0.925 total time=   0.1s\n",
      "[CV 1/5] END ........alpha=0.5, fit_prior=False;, score=0.925 total time=   0.0s\n",
      "[CV 2/5] END ........alpha=0.5, fit_prior=False;, score=0.923 total time=   0.1s\n",
      "[CV 3/5] END ........alpha=0.5, fit_prior=False;, score=0.924 total time=   0.0s\n",
      "[CV 4/5] END ........alpha=0.5, fit_prior=False;, score=0.926 total time=   0.0s\n",
      "[CV 5/5] END ........alpha=0.5, fit_prior=False;, score=0.924 total time=   0.0s\n",
      "[CV 1/5] END ...........alpha=1, fit_prior=True;, score=0.922 total time=   0.1s\n",
      "[CV 2/5] END ...........alpha=1, fit_prior=True;, score=0.919 total time=   0.1s\n",
      "[CV 3/5] END ...........alpha=1, fit_prior=True;, score=0.922 total time=   0.0s\n",
      "[CV 4/5] END ...........alpha=1, fit_prior=True;, score=0.922 total time=   0.0s\n",
      "[CV 5/5] END ...........alpha=1, fit_prior=True;, score=0.921 total time=   0.0s\n",
      "[CV 1/5] END ..........alpha=1, fit_prior=False;, score=0.924 total time=   0.0s\n",
      "[CV 2/5] END ..........alpha=1, fit_prior=False;, score=0.923 total time=   0.0s\n",
      "[CV 3/5] END ..........alpha=1, fit_prior=False;, score=0.923 total time=   0.0s\n",
      "[CV 4/5] END ..........alpha=1, fit_prior=False;, score=0.925 total time=   0.0s\n",
      "[CV 5/5] END ..........alpha=1, fit_prior=False;, score=0.924 total time=   0.1s\n",
      "[CV 1/5] END ...........alpha=5, fit_prior=True;, score=0.900 total time=   0.0s\n",
      "[CV 2/5] END ...........alpha=5, fit_prior=True;, score=0.896 total time=   0.0s\n",
      "[CV 3/5] END ...........alpha=5, fit_prior=True;, score=0.899 total time=   0.1s\n",
      "[CV 4/5] END ...........alpha=5, fit_prior=True;, score=0.899 total time=   0.0s\n",
      "[CV 5/5] END ...........alpha=5, fit_prior=True;, score=0.898 total time=   0.0s\n",
      "[CV 1/5] END ..........alpha=5, fit_prior=False;, score=0.916 total time=   0.1s\n",
      "[CV 2/5] END ..........alpha=5, fit_prior=False;, score=0.914 total time=   0.0s\n",
      "[CV 3/5] END ..........alpha=5, fit_prior=False;, score=0.916 total time=   0.1s\n",
      "[CV 4/5] END ..........alpha=5, fit_prior=False;, score=0.917 total time=   0.0s\n",
      "[CV 5/5] END ..........alpha=5, fit_prior=False;, score=0.916 total time=   0.0s\n"
     ]
    },
    {
     "data": {
      "text/html": [
       "<style>#sk-container-id-2 {color: black;background-color: white;}#sk-container-id-2 pre{padding: 0;}#sk-container-id-2 div.sk-toggleable {background-color: white;}#sk-container-id-2 label.sk-toggleable__label {cursor: pointer;display: block;width: 100%;margin-bottom: 0;padding: 0.3em;box-sizing: border-box;text-align: center;}#sk-container-id-2 label.sk-toggleable__label-arrow:before {content: \"▸\";float: left;margin-right: 0.25em;color: #696969;}#sk-container-id-2 label.sk-toggleable__label-arrow:hover:before {color: black;}#sk-container-id-2 div.sk-estimator:hover label.sk-toggleable__label-arrow:before {color: black;}#sk-container-id-2 div.sk-toggleable__content {max-height: 0;max-width: 0;overflow: hidden;text-align: left;background-color: #f0f8ff;}#sk-container-id-2 div.sk-toggleable__content pre {margin: 0.2em;color: black;border-radius: 0.25em;background-color: #f0f8ff;}#sk-container-id-2 input.sk-toggleable__control:checked~div.sk-toggleable__content {max-height: 200px;max-width: 100%;overflow: auto;}#sk-container-id-2 input.sk-toggleable__control:checked~label.sk-toggleable__label-arrow:before {content: \"▾\";}#sk-container-id-2 div.sk-estimator input.sk-toggleable__control:checked~label.sk-toggleable__label {background-color: #d4ebff;}#sk-container-id-2 div.sk-label input.sk-toggleable__control:checked~label.sk-toggleable__label {background-color: #d4ebff;}#sk-container-id-2 input.sk-hidden--visually {border: 0;clip: rect(1px 1px 1px 1px);clip: rect(1px, 1px, 1px, 1px);height: 1px;margin: -1px;overflow: hidden;padding: 0;position: absolute;width: 1px;}#sk-container-id-2 div.sk-estimator {font-family: monospace;background-color: #f0f8ff;border: 1px dotted black;border-radius: 0.25em;box-sizing: border-box;margin-bottom: 0.5em;}#sk-container-id-2 div.sk-estimator:hover {background-color: #d4ebff;}#sk-container-id-2 div.sk-parallel-item::after {content: \"\";width: 100%;border-bottom: 1px solid gray;flex-grow: 1;}#sk-container-id-2 div.sk-label:hover label.sk-toggleable__label {background-color: #d4ebff;}#sk-container-id-2 div.sk-serial::before {content: \"\";position: absolute;border-left: 1px solid gray;box-sizing: border-box;top: 0;bottom: 0;left: 50%;z-index: 0;}#sk-container-id-2 div.sk-serial {display: flex;flex-direction: column;align-items: center;background-color: white;padding-right: 0.2em;padding-left: 0.2em;position: relative;}#sk-container-id-2 div.sk-item {position: relative;z-index: 1;}#sk-container-id-2 div.sk-parallel {display: flex;align-items: stretch;justify-content: center;background-color: white;position: relative;}#sk-container-id-2 div.sk-item::before, #sk-container-id-2 div.sk-parallel-item::before {content: \"\";position: absolute;border-left: 1px solid gray;box-sizing: border-box;top: 0;bottom: 0;left: 50%;z-index: -1;}#sk-container-id-2 div.sk-parallel-item {display: flex;flex-direction: column;z-index: 1;position: relative;background-color: white;}#sk-container-id-2 div.sk-parallel-item:first-child::after {align-self: flex-end;width: 50%;}#sk-container-id-2 div.sk-parallel-item:last-child::after {align-self: flex-start;width: 50%;}#sk-container-id-2 div.sk-parallel-item:only-child::after {width: 0;}#sk-container-id-2 div.sk-dashed-wrapped {border: 1px dashed gray;margin: 0 0.4em 0.5em 0.4em;box-sizing: border-box;padding-bottom: 0.4em;background-color: white;}#sk-container-id-2 div.sk-label label {font-family: monospace;font-weight: bold;display: inline-block;line-height: 1.2em;}#sk-container-id-2 div.sk-label-container {text-align: center;}#sk-container-id-2 div.sk-container {/* jupyter's `normalize.less` sets `[hidden] { display: none; }` but bootstrap.min.css set `[hidden] { display: none !important; }` so we also need the `!important` here to be able to override the default hidden behavior on the sphinx rendered scikit-learn.org. See: https://github.com/scikit-learn/scikit-learn/issues/21755 */display: inline-block !important;position: relative;}#sk-container-id-2 div.sk-text-repr-fallback {display: none;}</style><div id=\"sk-container-id-2\" class=\"sk-top-container\"><div class=\"sk-text-repr-fallback\"><pre>GridSearchCV(estimator=MultinomialNB(),\n",
       "             param_grid={&#x27;alpha&#x27;: [0.01, 0.1, 0.5, 1, 5],\n",
       "                         &#x27;fit_prior&#x27;: [True, False]},\n",
       "             verbose=3)</pre><b>In a Jupyter environment, please rerun this cell to show the HTML representation or trust the notebook. <br />On GitHub, the HTML representation is unable to render, please try loading this page with nbviewer.org.</b></div><div class=\"sk-container\" hidden><div class=\"sk-item sk-dashed-wrapped\"><div class=\"sk-label-container\"><div class=\"sk-label sk-toggleable\"><input class=\"sk-toggleable__control sk-hidden--visually\" id=\"sk-estimator-id-4\" type=\"checkbox\" ><label for=\"sk-estimator-id-4\" class=\"sk-toggleable__label sk-toggleable__label-arrow\">GridSearchCV</label><div class=\"sk-toggleable__content\"><pre>GridSearchCV(estimator=MultinomialNB(),\n",
       "             param_grid={&#x27;alpha&#x27;: [0.01, 0.1, 0.5, 1, 5],\n",
       "                         &#x27;fit_prior&#x27;: [True, False]},\n",
       "             verbose=3)</pre></div></div></div><div class=\"sk-parallel\"><div class=\"sk-parallel-item\"><div class=\"sk-item\"><div class=\"sk-label-container\"><div class=\"sk-label sk-toggleable\"><input class=\"sk-toggleable__control sk-hidden--visually\" id=\"sk-estimator-id-5\" type=\"checkbox\" ><label for=\"sk-estimator-id-5\" class=\"sk-toggleable__label sk-toggleable__label-arrow\">estimator: MultinomialNB</label><div class=\"sk-toggleable__content\"><pre>MultinomialNB()</pre></div></div></div><div class=\"sk-serial\"><div class=\"sk-item\"><div class=\"sk-estimator sk-toggleable\"><input class=\"sk-toggleable__control sk-hidden--visually\" id=\"sk-estimator-id-6\" type=\"checkbox\" ><label for=\"sk-estimator-id-6\" class=\"sk-toggleable__label sk-toggleable__label-arrow\">MultinomialNB</label><div class=\"sk-toggleable__content\"><pre>MultinomialNB()</pre></div></div></div></div></div></div></div></div></div></div>"
      ],
      "text/plain": [
       "GridSearchCV(estimator=MultinomialNB(),\n",
       "             param_grid={'alpha': [0.01, 0.1, 0.5, 1, 5],\n",
       "                         'fit_prior': [True, False]},\n",
       "             verbose=3)"
      ]
     },
     "execution_count": 66,
     "metadata": {},
     "output_type": "execute_result"
    }
   ],
   "source": [
    "from sklearn.model_selection import GridSearchCV\n",
    "from sklearn.model_selection import cross_val_score\n",
    "# cross_score = cross_val_score(mnb, x_train, y_train, cv=5)\n",
    "param_grid = {'alpha': [0.01, 0.1, 0.5, 1, 5], 'fit_prior': [True, False]}\n",
    "grid = GridSearchCV(mnb, param_grid, refit=True, verbose=3)\n",
    "grid.fit(x_train, y_train)"
   ]
  },
  {
   "cell_type": "code",
   "execution_count": 67,
   "metadata": {},
   "outputs": [
    {
     "name": "stdout",
     "output_type": "stream",
     "text": [
      "best cross-validation score: 0.93\n",
      "best parameters:  {'alpha': 0.1, 'fit_prior': True}\n"
     ]
    }
   ],
   "source": [
    "print(\"best cross-validation score: {:.2f}\".format(grid.best_score_))\n",
    "print(\"best parameters: \", grid.best_params_)"
   ]
  },
  {
   "cell_type": "code",
   "execution_count": 68,
   "metadata": {},
   "outputs": [
    {
     "name": "stdout",
     "output_type": "stream",
     "text": [
      "Test accuracy: 92.37%\n"
     ]
    }
   ],
   "source": [
    "mnb = MultinomialNB(alpha=0.01, fit_prior=True)\n",
    "mnb.fit(x_train, y_train)\n",
    "mnb_pred = mnb.predict(x_test)\n",
    "mnb_acc = accuracy_score(y_test, mnb_pred)\n",
    "print(\"Test accuracy: {:.2f}%\".format(mnb_acc*100))"
   ]
  },
  {
   "cell_type": "code",
   "execution_count": 69,
   "metadata": {},
   "outputs": [
    {
     "name": "stdout",
     "output_type": "stream",
     "text": [
      "              precision    recall  f1-score   support\n",
      "\n",
      "           0       0.89      0.91      0.90     22012\n",
      "           1       0.90      0.90      0.90     20538\n",
      "           2       0.95      0.97      0.96     28944\n",
      "           3       0.95      0.88      0.91      8576\n",
      "\n",
      "    accuracy                           0.92     80070\n",
      "   macro avg       0.92      0.91      0.92     80070\n",
      "weighted avg       0.92      0.92      0.92     80070\n",
      "\n",
      "\n",
      "\n",
      "[[20029  1312   484   187]\n",
      " [ 1509 18429   479   121]\n",
      " [  397   479 27962   106]\n",
      " [  449   197   390  7540]]\n"
     ]
    }
   ],
   "source": [
    "print(classification_report(y_test, mnb_pred))\n",
    "print('\\n')\n",
    "print(confusion_matrix(y_test, mnb_pred))"
   ]
  },
  {
   "cell_type": "code",
   "execution_count": null,
   "metadata": {},
   "outputs": [],
   "source": []
  }
 ],
 "metadata": {
  "kernelspec": {
   "display_name": "Python 3",
   "language": "python",
   "name": "python3"
  },
  "language_info": {
   "codemirror_mode": {
    "name": "ipython",
    "version": 3
   },
   "file_extension": ".py",
   "mimetype": "text/x-python",
   "name": "python",
   "nbconvert_exporter": "python",
   "pygments_lexer": "ipython3",
   "version": "3.10.5"
  },
  "orig_nbformat": 4
 },
 "nbformat": 4,
 "nbformat_minor": 2
}
