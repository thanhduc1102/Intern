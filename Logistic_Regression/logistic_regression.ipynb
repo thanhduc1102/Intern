{
 "cells": [
  {
   "cell_type": "code",
   "execution_count": 3,
   "metadata": {},
   "outputs": [],
   "source": [
    "import pandas as pd\n",
    "import random \n",
    "import matplotlib.pyplot as plt\n",
    "import seaborn as sns\n",
    "import re\n",
    "import nltk\n",
    "from sklearn.model_selection import train_test_split\n",
    "from nltk.stem import WordNetLemmatizer\n",
    "from nltk.stem import PorterStemmer\n",
    "from nltk.tokenize import word_tokenize\n",
    "from nltk.corpus import stopwords\n",
    "stop_words = set(stopwords.words('english'))\n",
    "from sklearn.feature_extraction.text import TfidfVectorizer\n"
   ]
  },
  {
   "cell_type": "code",
   "execution_count": 4,
   "metadata": {},
   "outputs": [
    {
     "data": {
      "text/html": [
       "<div>\n",
       "<style scoped>\n",
       "    .dataframe tbody tr th:only-of-type {\n",
       "        vertical-align: middle;\n",
       "    }\n",
       "\n",
       "    .dataframe tbody tr th {\n",
       "        vertical-align: top;\n",
       "    }\n",
       "\n",
       "    .dataframe thead th {\n",
       "        text-align: right;\n",
       "    }\n",
       "</style>\n",
       "<table border=\"1\" class=\"dataframe\">\n",
       "  <thead>\n",
       "    <tr style=\"text-align: right;\">\n",
       "      <th></th>\n",
       "      <th>1</th>\n",
       "      <th>2</th>\n",
       "      <th>3</th>\n",
       "      <th>4</th>\n",
       "      <th>5</th>\n",
       "      <th>6</th>\n",
       "      <th>7</th>\n",
       "    </tr>\n",
       "  </thead>\n",
       "  <tbody>\n",
       "    <tr>\n",
       "      <th>0</th>\n",
       "      <td>PlayStation Finally Coming To China</td>\n",
       "      <td>http://www.justpushstart.com/2014/05/playstati...</td>\n",
       "      <td>Just Push Start</td>\n",
       "      <td>t</td>\n",
       "      <td>dEftysQ9yeuUWXMsEDcrJ5jHz_tMM</td>\n",
       "      <td>www.justpushstart.com</td>\n",
       "      <td>1401099893041</td>\n",
       "    </tr>\n",
       "    <tr>\n",
       "      <th>1</th>\n",
       "      <td>Time to celebrate Earth Day</td>\n",
       "      <td>http://www.examiner.com/article/time-to-celebr...</td>\n",
       "      <td>Examiner.com</td>\n",
       "      <td>t</td>\n",
       "      <td>dfr1ecd3D0rgvNMR9wodgydFf12SM</td>\n",
       "      <td>www.examiner.com</td>\n",
       "      <td>1398163098305</td>\n",
       "    </tr>\n",
       "    <tr>\n",
       "      <th>2</th>\n",
       "      <td>Adobe Creative Cloud for Photographers now per...</td>\n",
       "      <td>http://www.expertreviews.co.uk/photo-editing/1...</td>\n",
       "      <td>Expert Reviews</td>\n",
       "      <td>b</td>\n",
       "      <td>dx5rs7ln2b_Ad8MMGjFrLWi0Q-R6M</td>\n",
       "      <td>www.expertreviews.co.uk</td>\n",
       "      <td>1403115982957</td>\n",
       "    </tr>\n",
       "    <tr>\n",
       "      <th>3</th>\n",
       "      <td>IRS: largest phone scam we've seen</td>\n",
       "      <td>http://www.kfvs12.com/story/25042018/irs-large...</td>\n",
       "      <td>KFVS</td>\n",
       "      <td>b</td>\n",
       "      <td>dR39a35kcuso-9M3bXDszPvdbxY1M</td>\n",
       "      <td>www.kfvs12.com</td>\n",
       "      <td>1395503772056</td>\n",
       "    </tr>\n",
       "    <tr>\n",
       "      <th>4</th>\n",
       "      <td>Montana Data Breach Exposes 1.3M Personal Records</td>\n",
       "      <td>http://www.pcmag.com/article2/0,2817,2460044,0...</td>\n",
       "      <td>PC Magazine</td>\n",
       "      <td>t</td>\n",
       "      <td>dGnQ1lzhziNKfwMNrNEePcbzqBL8M</td>\n",
       "      <td>www.pcmag.com</td>\n",
       "      <td>1403786215060</td>\n",
       "    </tr>\n",
       "  </tbody>\n",
       "</table>\n",
       "</div>"
      ],
      "text/plain": [
       "                                                   1  \\\n",
       "0                PlayStation Finally Coming To China   \n",
       "1                        Time to celebrate Earth Day   \n",
       "2  Adobe Creative Cloud for Photographers now per...   \n",
       "3                 IRS: largest phone scam we've seen   \n",
       "4  Montana Data Breach Exposes 1.3M Personal Records   \n",
       "\n",
       "                                                   2                3  4  \\\n",
       "0  http://www.justpushstart.com/2014/05/playstati...  Just Push Start  t   \n",
       "1  http://www.examiner.com/article/time-to-celebr...     Examiner.com  t   \n",
       "2  http://www.expertreviews.co.uk/photo-editing/1...   Expert Reviews  b   \n",
       "3  http://www.kfvs12.com/story/25042018/irs-large...             KFVS  b   \n",
       "4  http://www.pcmag.com/article2/0,2817,2460044,0...      PC Magazine  t   \n",
       "\n",
       "                               5                        6              7  \n",
       "0  dEftysQ9yeuUWXMsEDcrJ5jHz_tMM    www.justpushstart.com  1401099893041  \n",
       "1  dfr1ecd3D0rgvNMR9wodgydFf12SM         www.examiner.com  1398163098305  \n",
       "2  dx5rs7ln2b_Ad8MMGjFrLWi0Q-R6M  www.expertreviews.co.uk  1403115982957  \n",
       "3  dR39a35kcuso-9M3bXDszPvdbxY1M           www.kfvs12.com  1395503772056  \n",
       "4  dGnQ1lzhziNKfwMNrNEePcbzqBL8M            www.pcmag.com  1403786215060  "
      ]
     },
     "execution_count": 4,
     "metadata": {},
     "output_type": "execute_result"
    }
   ],
   "source": [
    "data_df = pd.read_csv('newsCorpora.csv', sep='\\t', header=None)\n",
    "data_df.drop(data_df.columns[0], axis=1, inplace=True)\n",
    "rows = list(range(len(data_df.index)))\n",
    "random.shuffle(rows)\n",
    "data_df = data_df.iloc[rows]\n",
    "data_df = data_df.reset_index(drop=True)\n",
    "data_df.head()"
   ]
  },
  {
   "cell_type": "code",
   "execution_count": 5,
   "metadata": {},
   "outputs": [
    {
     "name": "stdout",
     "output_type": "stream",
     "text": [
      "<class 'pandas.core.frame.DataFrame'>\n",
      "RangeIndex: 422419 entries, 0 to 422418\n",
      "Data columns (total 7 columns):\n",
      " #   Column  Non-Null Count   Dtype   \n",
      "---  ------  --------------   -----   \n",
      " 0   1       422419 non-null  object  \n",
      " 1   2       422419 non-null  object  \n",
      " 2   3       422417 non-null  object  \n",
      " 3   4       422419 non-null  category\n",
      " 4   5       422419 non-null  object  \n",
      " 5   6       422419 non-null  object  \n",
      " 6   7       422419 non-null  int64   \n",
      "dtypes: category(1), int64(1), object(5)\n",
      "memory usage: 19.7+ MB\n"
     ]
    }
   ],
   "source": [
    "data_df.iloc[:, 3] = data_df.iloc[:, 3].astype('category')\n",
    "data_df.info()"
   ]
  },
  {
   "cell_type": "code",
   "execution_count": 6,
   "metadata": {},
   "outputs": [
    {
     "data": {
      "text/plain": [
       "Text(0.5, 1.0, 'Distribution of news categories')"
      ]
     },
     "execution_count": 6,
     "metadata": {},
     "output_type": "execute_result"
    },
    {
     "data": {
      "image/png": "[encoded data removed]",
      "text/plain": [
       "<Figure size 432x288 with 1 Axes>"
      ]
     },
     "metadata": {
      "needs_background": "light"
     },
     "output_type": "display_data"
    }
   ],
   "source": [
    "sns.countplot(x=data_df.iloc[:, 3], data=data_df)\n",
    "plt.title('Distribution of news categories')"
   ]
  },
  {
   "cell_type": "code",
   "execution_count": 7,
   "metadata": {},
   "outputs": [],
   "source": [
    "def data_processing(text):\n",
    "    text = text.lower()\n",
    "    text_tokens = word_tokenize(text)\n",
    "    filtered_text = [word for word in text_tokens if word not in stop_words]\n",
    "    stemmer = PorterStemmer()\n",
    "    stemmed_text = [stemmer.stem(word) for word in filtered_text]\n",
    "    lemmatizer = WordNetLemmatizer()\n",
    "    lemmatized_text = [lemmatizer.lemmatize(word) for word in stemmed_text]\n",
    "    return \" \".join(lemmatized_text)\n"
   ]
  },
  {
   "cell_type": "code",
   "execution_count": 8,
   "metadata": {},
   "outputs": [],
   "source": [
    "X = data_df.iloc[:, 0].apply(data_processing)\n",
    "Y = data_df.iloc[:, 3]"
   ]
  },
  {
   "cell_type": "code",
   "execution_count": 9,
   "metadata": {},
   "outputs": [
    {
     "data": {
      "text/html": [
       "<div>\n",
       "<style scoped>\n",
       "    .dataframe tbody tr th:only-of-type {\n",
       "        vertical-align: middle;\n",
       "    }\n",
       "\n",
       "    .dataframe tbody tr th {\n",
       "        vertical-align: top;\n",
       "    }\n",
       "\n",
       "    .dataframe thead th {\n",
       "        text-align: right;\n",
       "    }\n",
       "</style>\n",
       "<table border=\"1\" class=\"dataframe\">\n",
       "  <thead>\n",
       "    <tr style=\"text-align: right;\">\n",
       "      <th></th>\n",
       "      <th>title</th>\n",
       "      <th>category</th>\n",
       "      <th>word_count</th>\n",
       "    </tr>\n",
       "  </thead>\n",
       "  <tbody>\n",
       "    <tr>\n",
       "      <th>0</th>\n",
       "      <td>playstat final come china</td>\n",
       "      <td>1</td>\n",
       "      <td>4</td>\n",
       "    </tr>\n",
       "    <tr>\n",
       "      <th>1</th>\n",
       "      <td>time celebr earth day</td>\n",
       "      <td>1</td>\n",
       "      <td>4</td>\n",
       "    </tr>\n",
       "    <tr>\n",
       "      <th>2</th>\n",
       "      <td>adob creativ cloud photograph perman</td>\n",
       "      <td>0</td>\n",
       "      <td>5</td>\n",
       "    </tr>\n",
       "    <tr>\n",
       "      <th>3</th>\n",
       "      <td>ir : largest phone scam 've seen</td>\n",
       "      <td>0</td>\n",
       "      <td>7</td>\n",
       "    </tr>\n",
       "    <tr>\n",
       "      <th>4</th>\n",
       "      <td>montana data breach expo 1.3m person record</td>\n",
       "      <td>1</td>\n",
       "      <td>7</td>\n",
       "    </tr>\n",
       "  </tbody>\n",
       "</table>\n",
       "</div>"
      ],
      "text/plain": [
       "                                         title category  word_count\n",
       "0                    playstat final come china        1           4\n",
       "1                        time celebr earth day        1           4\n",
       "2         adob creativ cloud photograph perman        0           5\n",
       "3             ir : largest phone scam 've seen        0           7\n",
       "4  montana data breach expo 1.3m person record        1           7"
      ]
     },
     "execution_count": 9,
     "metadata": {},
     "output_type": "execute_result"
    }
   ],
   "source": [
    "data = pd.DataFrame()\n",
    "data['title'] = X\n",
    "data['category'] = Y\n",
    "data.category.replace({'b': 0, 't': 1, 'e': 2, 'm': 3}, inplace=True)\n",
    "data['word_count'] = data['title'].apply(lambda x: len(str(x).split(\" \")))\n",
    "data.head()"
   ]
  },
  {
   "cell_type": "code",
   "execution_count": 10,
   "metadata": {},
   "outputs": [
    {
     "name": "stdout",
     "output_type": "stream",
     "text": [
      "Number of duplicate rows:  21082\n"
     ]
    }
   ],
   "source": [
    "duplicate_count = data.duplicated().sum()\n",
    "print(\"Number of duplicate rows: \", duplicate_count)"
   ]
  },
  {
   "cell_type": "code",
   "execution_count": 11,
   "metadata": {},
   "outputs": [
    {
     "data": {
      "text/plain": [
       "(400350, 3)"
      ]
     },
     "execution_count": 11,
     "metadata": {},
     "output_type": "execute_result"
    }
   ],
   "source": [
    "data = data.drop_duplicates('title')\n",
    "data.shape"
   ]
  },
  {
   "cell_type": "code",
   "execution_count": 12,
   "metadata": {},
   "outputs": [],
   "source": [
    "X = data['title']\n",
    "Y = data['category']\n",
    "vect = TfidfVectorizer()\n",
    "X = vect.fit_transform(X)"
   ]
  },
  {
   "cell_type": "code",
   "execution_count": 13,
   "metadata": {},
   "outputs": [
    {
     "name": "stdout",
     "output_type": "stream",
     "text": [
      "  (0, 19105)\t0.37336547948801807\n",
      "  (0, 40510)\t0.35605811366286316\n",
      "  (0, 18807)\t0.36328022573564406\n",
      "  (0, 39493)\t0.39998222297764235\n",
      "  (0, 37811)\t0.3977964654592705\n",
      "  (0, 9449)\t0.3970894975401958\n",
      "  (0, 14229)\t0.3548808818804349\n",
      "  (1, 13610)\t0.4188871334151136\n",
      "  (1, 28281)\t0.3428782550540564\n",
      "  (1, 9417)\t0.33605012148699304\n",
      "  (1, 20391)\t0.33499354561939104\n",
      "  (1, 17437)\t0.2932058243025959\n",
      "  (1, 31639)\t0.35941526379813543\n",
      "  (1, 5614)\t0.29591285481068846\n",
      "  (1, 27313)\t0.3107331636350657\n",
      "  (1, 8628)\t0.2873137797450104\n",
      "  (2, 34491)\t0.4915764968168791\n",
      "  (2, 34978)\t0.4800731708281193\n",
      "  (2, 14966)\t0.4716256812602034\n",
      "  (2, 20219)\t0.40879639742628326\n",
      "  (2, 13088)\t0.3719368503596029\n",
      "  (3, 8467)\t0.5741974489687304\n",
      "  (3, 15497)\t0.36690321654949937\n",
      "  (3, 5305)\t0.39646635660607926\n",
      "  (3, 22924)\t0.41230057903146106\n",
      "  :\t:\n",
      "  (320277, 29537)\t0.4134934896018088\n",
      "  (320277, 31105)\t0.4022748596256626\n",
      "  (320277, 23345)\t0.35456623241921603\n",
      "  (320277, 29515)\t0.3120607454181122\n",
      "  (320277, 29217)\t0.30630221224222426\n",
      "  (320277, 5577)\t0.21858876783686745\n",
      "  (320277, 12947)\t0.330714763215929\n",
      "  (320277, 26182)\t0.17806743744485584\n",
      "  (320278, 9293)\t0.45770307138963606\n",
      "  (320278, 33223)\t0.4226345950532176\n",
      "  (320278, 21566)\t0.4274088638344996\n",
      "  (320278, 34808)\t0.4001593805037615\n",
      "  (320278, 35721)\t0.294884187754497\n",
      "  (320278, 23030)\t0.20214053767434745\n",
      "  (320278, 31387)\t0.21159240117559858\n",
      "  (320278, 23387)\t0.2344497186534733\n",
      "  (320278, 24359)\t0.20378060468158501\n",
      "  (320279, 31290)\t0.4229606491477382\n",
      "  (320279, 24675)\t0.3715255677091775\n",
      "  (320279, 4600)\t0.38885405912832816\n",
      "  (320279, 35582)\t0.37700027313380524\n",
      "  (320279, 37573)\t0.29220522696001894\n",
      "  (320279, 31816)\t0.32728341566986985\n",
      "  (320279, 11209)\t0.3168144034452724\n",
      "  (320279, 16551)\t0.3112340943754062\n"
     ]
    }
   ],
   "source": [
    "x_train, x_test, y_train, y_test = train_test_split(\n",
    "    X, Y, test_size=0.2, random_state=42)\n",
    "# x_test, x_val, y_test, y_val = train_test_split(x_test, y_test, test_size=0.5, random_state=42)\n",
    "print(x_train)"
   ]
  },
  {
   "cell_type": "code",
   "execution_count": 14,
   "metadata": {},
   "outputs": [],
   "source": [
    "from sklearn.linear_model import LogisticRegression\n",
    "from sklearn.multiclass import OneVsRestClassifier\n",
    "from sklearn.metrics import accuracy_score, confusion_matrix, classification_report\n",
    "import warnings\n",
    "warnings.filterwarnings('ignore')"
   ]
  },
  {
   "cell_type": "code",
   "execution_count": 15,
   "metadata": {},
   "outputs": [],
   "source": [
    "# logreg = LogisticRegression()\n",
    "# ovr = OneVsRestClassifier(logreg)\n",
    "# ovr.fit(x_train, y_train)\n",
    "# ovr_pred = ovr.predict(x_test)\n",
    "# ovr_acc = accuracy_score(y_test, ovr_pred)\n",
    "# print(\"test accuracy: {}\".format(ovr_acc))"
   ]
  },
  {
   "cell_type": "code",
   "execution_count": 16,
   "metadata": {},
   "outputs": [
    {
     "name": "stdout",
     "output_type": "stream",
     "text": [
      "test accuracy: 0.9407018858498813\n"
     ]
    }
   ],
   "source": [
    "clf = LogisticRegression(random_state=0, solver='lbfgs', multi_class='multinomial')\n",
    "clf.fit(x_train, y_train)\n",
    "clf_pred = clf.predict(x_test)\n",
    "clf_acc = accuracy_score(y_test, clf_pred)\n",
    "print(\"test accuracy: {}\".format(clf_acc))"
   ]
  },
  {
   "cell_type": "code",
   "execution_count": 17,
   "metadata": {},
   "outputs": [
    {
     "name": "stdout",
     "output_type": "stream",
     "text": [
      "              precision    recall  f1-score   support\n",
      "\n",
      "           0       0.92      0.92      0.92     21879\n",
      "           1       0.93      0.92      0.92     20656\n",
      "           2       0.96      0.98      0.97     28877\n",
      "           3       0.95      0.91      0.93      8658\n",
      "\n",
      "    accuracy                           0.94     80070\n",
      "   macro avg       0.94      0.93      0.94     80070\n",
      "weighted avg       0.94      0.94      0.94     80070\n",
      "\n",
      "\n",
      "\n",
      "[[20209  1121   383   166]\n",
      " [ 1116 19036   408    96]\n",
      " [  338   249 28170   120]\n",
      " [  359   149   243  7907]]\n"
     ]
    }
   ],
   "source": [
    "print(classification_report(y_test, clf_pred))\n",
    "print(\"\\n\")\n",
    "print(confusion_matrix(y_test, clf_pred))"
   ]
  },
  {
   "cell_type": "code",
   "execution_count": 28,
   "metadata": {},
   "outputs": [
    {
     "name": "stdout",
     "output_type": "stream",
     "text": [
      "Fitting 5 folds for each of 25 candidates, totalling 125 fits\n",
      "[CV 1/5] END C=0.1, penalty=l2, solver=newton-cg;, score=0.916 total time=   5.9s\n",
      "[CV 2/5] END C=0.1, penalty=l2, solver=newton-cg;, score=0.916 total time=   5.6s\n",
      "[CV 3/5] END C=0.1, penalty=l2, solver=newton-cg;, score=0.915 total time=   5.8s\n",
      "[CV 4/5] END C=0.1, penalty=l2, solver=newton-cg;, score=0.916 total time=   5.6s\n",
      "[CV 5/5] END C=0.1, penalty=l2, solver=newton-cg;, score=0.915 total time=   5.5s\n",
      "[CV 1/5] END ...C=0.1, penalty=l2, solver=lbfgs;, score=0.916 total time=   5.6s\n",
      "[CV 2/5] END ...C=0.1, penalty=l2, solver=lbfgs;, score=0.916 total time=   5.5s\n",
      "[CV 3/5] END ...C=0.1, penalty=l2, solver=lbfgs;, score=0.915 total time=   5.5s\n",
      "[CV 4/5] END ...C=0.1, penalty=l2, solver=lbfgs;, score=0.916 total time=   5.3s\n",
      "[CV 5/5] END ...C=0.1, penalty=l2, solver=lbfgs;, score=0.915 total time=   5.6s\n",
      "[CV 1/5] END C=0.1, penalty=l2, solver=liblinear;, score=0.907 total time=   2.6s\n",
      "[CV 2/5] END C=0.1, penalty=l2, solver=liblinear;, score=0.907 total time=   2.7s\n",
      "[CV 3/5] END C=0.1, penalty=l2, solver=liblinear;, score=0.906 total time=   3.1s\n",
      "[CV 4/5] END C=0.1, penalty=l2, solver=liblinear;, score=0.906 total time=   3.2s\n",
      "[CV 5/5] END C=0.1, penalty=l2, solver=liblinear;, score=0.906 total time=   3.1s\n",
      "[CV 1/5] END .....C=0.1, penalty=l2, solver=sag;, score=0.916 total time=   3.8s\n",
      "[CV 2/5] END .....C=0.1, penalty=l2, solver=sag;, score=0.916 total time=   2.9s\n",
      "[CV 3/5] END .....C=0.1, penalty=l2, solver=sag;, score=0.915 total time=   3.1s\n",
      "[CV 4/5] END .....C=0.1, penalty=l2, solver=sag;, score=0.916 total time=   3.2s\n",
      "[CV 5/5] END .....C=0.1, penalty=l2, solver=sag;, score=0.915 total time=   2.9s\n",
      "[CV 1/5] END ....C=0.1, penalty=l2, solver=saga;, score=0.916 total time=   4.2s\n",
      "[CV 2/5] END ....C=0.1, penalty=l2, solver=saga;, score=0.916 total time=   4.6s\n",
      "[CV 3/5] END ....C=0.1, penalty=l2, solver=saga;, score=0.915 total time=   4.7s\n",
      "[CV 4/5] END ....C=0.1, penalty=l2, solver=saga;, score=0.916 total time=   3.9s\n",
      "[CV 5/5] END ....C=0.1, penalty=l2, solver=saga;, score=0.915 total time=   4.1s\n",
      "[CV 1/5] END .C=1, penalty=l2, solver=newton-cg;, score=0.942 total time=   9.8s\n",
      "[CV 2/5] END .C=1, penalty=l2, solver=newton-cg;, score=0.941 total time=  10.6s\n",
      "[CV 3/5] END .C=1, penalty=l2, solver=newton-cg;, score=0.942 total time=  10.5s\n",
      "[CV 4/5] END .C=1, penalty=l2, solver=newton-cg;, score=0.942 total time=   9.6s\n",
      "[CV 5/5] END .C=1, penalty=l2, solver=newton-cg;, score=0.942 total time=   9.4s\n",
      "[CV 1/5] END .....C=1, penalty=l2, solver=lbfgs;, score=0.942 total time=   5.8s\n",
      "[CV 2/5] END .....C=1, penalty=l2, solver=lbfgs;, score=0.940 total time=   5.5s\n",
      "[CV 3/5] END .....C=1, penalty=l2, solver=lbfgs;, score=0.940 total time=   5.8s\n",
      "[CV 4/5] END .....C=1, penalty=l2, solver=lbfgs;, score=0.940 total time=   5.6s\n",
      "[CV 5/5] END .....C=1, penalty=l2, solver=lbfgs;, score=0.941 total time=   6.0s\n",
      "[CV 1/5] END .C=1, penalty=l2, solver=liblinear;, score=0.940 total time=   4.1s\n",
      "[CV 2/5] END .C=1, penalty=l2, solver=liblinear;, score=0.939 total time=   4.1s\n",
      "[CV 3/5] END .C=1, penalty=l2, solver=liblinear;, score=0.939 total time=   3.7s\n",
      "[CV 4/5] END .C=1, penalty=l2, solver=liblinear;, score=0.939 total time=   4.0s\n",
      "[CV 5/5] END .C=1, penalty=l2, solver=liblinear;, score=0.939 total time=   3.8s\n",
      "[CV 1/5] END .......C=1, penalty=l2, solver=sag;, score=0.942 total time=   4.0s\n",
      "[CV 2/5] END .......C=1, penalty=l2, solver=sag;, score=0.941 total time=   4.2s\n",
      "[CV 3/5] END .......C=1, penalty=l2, solver=sag;, score=0.942 total time=   4.2s\n",
      "[CV 4/5] END .......C=1, penalty=l2, solver=sag;, score=0.942 total time=   4.1s\n",
      "[CV 5/5] END .......C=1, penalty=l2, solver=sag;, score=0.942 total time=   4.1s\n",
      "[CV 1/5] END ......C=1, penalty=l2, solver=saga;, score=0.942 total time=   4.4s\n",
      "[CV 2/5] END ......C=1, penalty=l2, solver=saga;, score=0.941 total time=   5.0s\n",
      "[CV 3/5] END ......C=1, penalty=l2, solver=saga;, score=0.942 total time=   5.6s\n",
      "[CV 4/5] END ......C=1, penalty=l2, solver=saga;, score=0.942 total time=   4.9s\n",
      "[CV 5/5] END ......C=1, penalty=l2, solver=saga;, score=0.942 total time=   5.1s\n",
      "[CV 1/5] END C=10, penalty=l2, solver=newton-cg;, score=0.945 total time=  23.4s\n",
      "[CV 2/5] END C=10, penalty=l2, solver=newton-cg;, score=0.944 total time=  21.0s\n",
      "[CV 3/5] END C=10, penalty=l2, solver=newton-cg;, score=0.945 total time=  22.9s\n",
      "[CV 4/5] END C=10, penalty=l2, solver=newton-cg;, score=0.944 total time=  25.8s\n",
      "[CV 5/5] END C=10, penalty=l2, solver=newton-cg;, score=0.945 total time=  23.0s\n",
      "[CV 1/5] END ....C=10, penalty=l2, solver=lbfgs;, score=0.944 total time=   5.7s\n",
      "[CV 2/5] END ....C=10, penalty=l2, solver=lbfgs;, score=0.942 total time=   5.5s\n",
      "[CV 3/5] END ....C=10, penalty=l2, solver=lbfgs;, score=0.943 total time=   5.5s\n",
      "[CV 4/5] END ....C=10, penalty=l2, solver=lbfgs;, score=0.942 total time=   5.6s\n",
      "[CV 5/5] END ....C=10, penalty=l2, solver=lbfgs;, score=0.942 total time=   6.0s\n",
      "[CV 1/5] END C=10, penalty=l2, solver=liblinear;, score=0.947 total time=   7.1s\n",
      "[CV 2/5] END C=10, penalty=l2, solver=liblinear;, score=0.946 total time=   7.0s\n",
      "[CV 3/5] END C=10, penalty=l2, solver=liblinear;, score=0.947 total time=   6.9s\n",
      "[CV 4/5] END C=10, penalty=l2, solver=liblinear;, score=0.946 total time=   7.2s\n",
      "[CV 5/5] END C=10, penalty=l2, solver=liblinear;, score=0.946 total time=   6.9s\n",
      "[CV 1/5] END ......C=10, penalty=l2, solver=sag;, score=0.945 total time=   7.9s\n",
      "[CV 2/5] END ......C=10, penalty=l2, solver=sag;, score=0.944 total time=   7.8s\n",
      "[CV 3/5] END ......C=10, penalty=l2, solver=sag;, score=0.945 total time=   8.4s\n",
      "[CV 4/5] END ......C=10, penalty=l2, solver=sag;, score=0.944 total time=   8.4s\n",
      "[CV 5/5] END ......C=10, penalty=l2, solver=sag;, score=0.945 total time=   8.7s\n",
      "[CV 1/5] END .....C=10, penalty=l2, solver=saga;, score=0.945 total time=  11.2s\n",
      "[CV 2/5] END .....C=10, penalty=l2, solver=saga;, score=0.944 total time=  13.4s\n",
      "[CV 3/5] END .....C=10, penalty=l2, solver=saga;, score=0.945 total time=  12.2s\n",
      "[CV 4/5] END .....C=10, penalty=l2, solver=saga;, score=0.944 total time=  13.0s\n",
      "[CV 5/5] END .....C=10, penalty=l2, solver=saga;, score=0.945 total time=  12.7s\n",
      "[CV 1/5] END C=100, penalty=l2, solver=newton-cg;, score=0.938 total time=  57.1s\n",
      "[CV 2/5] END C=100, penalty=l2, solver=newton-cg;, score=0.938 total time=  51.6s\n",
      "[CV 3/5] END C=100, penalty=l2, solver=newton-cg;, score=0.939 total time=  57.0s\n",
      "[CV 4/5] END C=100, penalty=l2, solver=newton-cg;, score=0.939 total time= 1.2min\n",
      "[CV 5/5] END C=100, penalty=l2, solver=newton-cg;, score=0.939 total time= 1.2min\n",
      "[CV 1/5] END ...C=100, penalty=l2, solver=lbfgs;, score=0.943 total time=   7.7s\n",
      "[CV 2/5] END ...C=100, penalty=l2, solver=lbfgs;, score=0.942 total time=   8.5s\n",
      "[CV 3/5] END ...C=100, penalty=l2, solver=lbfgs;, score=0.942 total time=   8.0s\n",
      "[CV 4/5] END ...C=100, penalty=l2, solver=lbfgs;, score=0.940 total time=   7.7s\n",
      "[CV 5/5] END ...C=100, penalty=l2, solver=lbfgs;, score=0.940 total time=   7.4s\n",
      "[CV 1/5] END C=100, penalty=l2, solver=liblinear;, score=0.944 total time=  17.8s\n",
      "[CV 2/5] END C=100, penalty=l2, solver=liblinear;, score=0.944 total time=  17.9s\n",
      "[CV 3/5] END C=100, penalty=l2, solver=liblinear;, score=0.944 total time=  17.2s\n",
      "[CV 4/5] END C=100, penalty=l2, solver=liblinear;, score=0.944 total time=  17.4s\n",
      "[CV 5/5] END C=100, penalty=l2, solver=liblinear;, score=0.943 total time=  17.2s\n",
      "[CV 1/5] END .....C=100, penalty=l2, solver=sag;, score=0.938 total time=  21.2s\n",
      "[CV 2/5] END .....C=100, penalty=l2, solver=sag;, score=0.938 total time=  21.4s\n",
      "[CV 3/5] END .....C=100, penalty=l2, solver=sag;, score=0.939 total time=  22.6s\n",
      "[CV 4/5] END .....C=100, penalty=l2, solver=sag;, score=0.939 total time=  21.7s\n",
      "[CV 5/5] END .....C=100, penalty=l2, solver=sag;, score=0.939 total time=  21.7s\n",
      "[CV 1/5] END ....C=100, penalty=l2, solver=saga;, score=0.939 total time=  22.8s\n",
      "[CV 2/5] END ....C=100, penalty=l2, solver=saga;, score=0.939 total time=  23.2s\n",
      "[CV 3/5] END ....C=100, penalty=l2, solver=saga;, score=0.939 total time=  22.3s\n",
      "[CV 4/5] END ....C=100, penalty=l2, solver=saga;, score=0.939 total time=  22.4s\n",
      "[CV 5/5] END ....C=100, penalty=l2, solver=saga;, score=0.939 total time=  22.4s\n",
      "[CV 1/5] END C=1000, penalty=l2, solver=newton-cg;, score=0.931 total time= 1.8min\n",
      "[CV 2/5] END C=1000, penalty=l2, solver=newton-cg;, score=0.931 total time= 1.7min\n",
      "[CV 3/5] END C=1000, penalty=l2, solver=newton-cg;, score=0.931 total time= 1.6min\n",
      "[CV 4/5] END C=1000, penalty=l2, solver=newton-cg;, score=0.931 total time= 2.1min\n",
      "[CV 5/5] END C=1000, penalty=l2, solver=newton-cg;, score=0.931 total time= 1.9min\n",
      "[CV 1/5] END ..C=1000, penalty=l2, solver=lbfgs;, score=0.942 total time=   5.6s\n",
      "[CV 2/5] END ..C=1000, penalty=l2, solver=lbfgs;, score=0.940 total time=   5.6s\n",
      "[CV 3/5] END ..C=1000, penalty=l2, solver=lbfgs;, score=0.941 total time=   5.6s\n",
      "[CV 4/5] END ..C=1000, penalty=l2, solver=lbfgs;, score=0.940 total time=   5.6s\n",
      "[CV 5/5] END ..C=1000, penalty=l2, solver=lbfgs;, score=0.939 total time=   5.5s\n",
      "[CV 1/5] END C=1000, penalty=l2, solver=liblinear;, score=0.939 total time=  24.3s\n",
      "[CV 2/5] END C=1000, penalty=l2, solver=liblinear;, score=0.940 total time=  27.7s\n",
      "[CV 3/5] END C=1000, penalty=l2, solver=liblinear;, score=0.940 total time=  29.7s\n",
      "[CV 4/5] END C=1000, penalty=l2, solver=liblinear;, score=0.940 total time=  34.9s\n",
      "[CV 5/5] END C=1000, penalty=l2, solver=liblinear;, score=0.940 total time=  27.7s\n",
      "[CV 1/5] END ....C=1000, penalty=l2, solver=sag;, score=0.934 total time=  17.7s\n",
      "[CV 2/5] END ....C=1000, penalty=l2, solver=sag;, score=0.934 total time=  17.8s\n",
      "[CV 3/5] END ....C=1000, penalty=l2, solver=sag;, score=0.934 total time=  17.7s\n",
      "[CV 4/5] END ....C=1000, penalty=l2, solver=sag;, score=0.934 total time=  19.1s\n",
      "[CV 5/5] END ....C=1000, penalty=l2, solver=sag;, score=0.933 total time=  18.6s\n",
      "[CV 1/5] END ...C=1000, penalty=l2, solver=saga;, score=0.936 total time=  17.9s\n",
      "[CV 2/5] END ...C=1000, penalty=l2, solver=saga;, score=0.936 total time=  18.2s\n",
      "[CV 3/5] END ...C=1000, penalty=l2, solver=saga;, score=0.936 total time=  18.9s\n",
      "[CV 4/5] END ...C=1000, penalty=l2, solver=saga;, score=0.936 total time=  19.2s\n",
      "[CV 5/5] END ...C=1000, penalty=l2, solver=saga;, score=0.936 total time=  18.2s\n"
     ]
    },
    {
     "data": {
      "text/html": [
       "<style>#sk-container-id-2 {color: black;background-color: white;}#sk-container-id-2 pre{padding: 0;}#sk-container-id-2 div.sk-toggleable {background-color: white;}#sk-container-id-2 label.sk-toggleable__label {cursor: pointer;display: block;width: 100%;margin-bottom: 0;padding: 0.3em;box-sizing: border-box;text-align: center;}#sk-container-id-2 label.sk-toggleable__label-arrow:before {content: \"▸\";float: left;margin-right: 0.25em;color: #696969;}#sk-container-id-2 label.sk-toggleable__label-arrow:hover:before {color: black;}#sk-container-id-2 div.sk-estimator:hover label.sk-toggleable__label-arrow:before {color: black;}#sk-container-id-2 div.sk-toggleable__content {max-height: 0;max-width: 0;overflow: hidden;text-align: left;background-color: #f0f8ff;}#sk-container-id-2 div.sk-toggleable__content pre {margin: 0.2em;color: black;border-radius: 0.25em;background-color: #f0f8ff;}#sk-container-id-2 input.sk-toggleable__control:checked~div.sk-toggleable__content {max-height: 200px;max-width: 100%;overflow: auto;}#sk-container-id-2 input.sk-toggleable__control:checked~label.sk-toggleable__label-arrow:before {content: \"▾\";}#sk-container-id-2 div.sk-estimator input.sk-toggleable__control:checked~label.sk-toggleable__label {background-color: #d4ebff;}#sk-container-id-2 div.sk-label input.sk-toggleable__control:checked~label.sk-toggleable__label {background-color: #d4ebff;}#sk-container-id-2 input.sk-hidden--visually {border: 0;clip: rect(1px 1px 1px 1px);clip: rect(1px, 1px, 1px, 1px);height: 1px;margin: -1px;overflow: hidden;padding: 0;position: absolute;width: 1px;}#sk-container-id-2 div.sk-estimator {font-family: monospace;background-color: #f0f8ff;border: 1px dotted black;border-radius: 0.25em;box-sizing: border-box;margin-bottom: 0.5em;}#sk-container-id-2 div.sk-estimator:hover {background-color: #d4ebff;}#sk-container-id-2 div.sk-parallel-item::after {content: \"\";width: 100%;border-bottom: 1px solid gray;flex-grow: 1;}#sk-container-id-2 div.sk-label:hover label.sk-toggleable__label {background-color: #d4ebff;}#sk-container-id-2 div.sk-serial::before {content: \"\";position: absolute;border-left: 1px solid gray;box-sizing: border-box;top: 0;bottom: 0;left: 50%;z-index: 0;}#sk-container-id-2 div.sk-serial {display: flex;flex-direction: column;align-items: center;background-color: white;padding-right: 0.2em;padding-left: 0.2em;position: relative;}#sk-container-id-2 div.sk-item {position: relative;z-index: 1;}#sk-container-id-2 div.sk-parallel {display: flex;align-items: stretch;justify-content: center;background-color: white;position: relative;}#sk-container-id-2 div.sk-item::before, #sk-container-id-2 div.sk-parallel-item::before {content: \"\";position: absolute;border-left: 1px solid gray;box-sizing: border-box;top: 0;bottom: 0;left: 50%;z-index: -1;}#sk-container-id-2 div.sk-parallel-item {display: flex;flex-direction: column;z-index: 1;position: relative;background-color: white;}#sk-container-id-2 div.sk-parallel-item:first-child::after {align-self: flex-end;width: 50%;}#sk-container-id-2 div.sk-parallel-item:last-child::after {align-self: flex-start;width: 50%;}#sk-container-id-2 div.sk-parallel-item:only-child::after {width: 0;}#sk-container-id-2 div.sk-dashed-wrapped {border: 1px dashed gray;margin: 0 0.4em 0.5em 0.4em;box-sizing: border-box;padding-bottom: 0.4em;background-color: white;}#sk-container-id-2 div.sk-label label {font-family: monospace;font-weight: bold;display: inline-block;line-height: 1.2em;}#sk-container-id-2 div.sk-label-container {text-align: center;}#sk-container-id-2 div.sk-container {/* jupyter's `normalize.less` sets `[hidden] { display: none; }` but bootstrap.min.css set `[hidden] { display: none !important; }` so we also need the `!important` here to be able to override the default hidden behavior on the sphinx rendered scikit-learn.org. See: https://github.com/scikit-learn/scikit-learn/issues/21755 */display: inline-block !important;position: relative;}#sk-container-id-2 div.sk-text-repr-fallback {display: none;}</style><div id=\"sk-container-id-2\" class=\"sk-top-container\"><div class=\"sk-text-repr-fallback\"><pre>GridSearchCV(estimator=LogisticRegression(),\n",
       "             param_grid={&#x27;C&#x27;: [0.1, 1, 10, 100, 1000], &#x27;penalty&#x27;: [&#x27;l2&#x27;],\n",
       "                         &#x27;solver&#x27;: [&#x27;newton-cg&#x27;, &#x27;lbfgs&#x27;, &#x27;liblinear&#x27;, &#x27;sag&#x27;,\n",
       "                                    &#x27;saga&#x27;]},\n",
       "             verbose=3)</pre><b>In a Jupyter environment, please rerun this cell to show the HTML representation or trust the notebook. <br />On GitHub, the HTML representation is unable to render, please try loading this page with nbviewer.org.</b></div><div class=\"sk-container\" hidden><div class=\"sk-item sk-dashed-wrapped\"><div class=\"sk-label-container\"><div class=\"sk-label sk-toggleable\"><input class=\"sk-toggleable__control sk-hidden--visually\" id=\"sk-estimator-id-4\" type=\"checkbox\" ><label for=\"sk-estimator-id-4\" class=\"sk-toggleable__label sk-toggleable__label-arrow\">GridSearchCV</label><div class=\"sk-toggleable__content\"><pre>GridSearchCV(estimator=LogisticRegression(),\n",
       "             param_grid={&#x27;C&#x27;: [0.1, 1, 10, 100, 1000], &#x27;penalty&#x27;: [&#x27;l2&#x27;],\n",
       "                         &#x27;solver&#x27;: [&#x27;newton-cg&#x27;, &#x27;lbfgs&#x27;, &#x27;liblinear&#x27;, &#x27;sag&#x27;,\n",
       "                                    &#x27;saga&#x27;]},\n",
       "             verbose=3)</pre></div></div></div><div class=\"sk-parallel\"><div class=\"sk-parallel-item\"><div class=\"sk-item\"><div class=\"sk-label-container\"><div class=\"sk-label sk-toggleable\"><input class=\"sk-toggleable__control sk-hidden--visually\" id=\"sk-estimator-id-5\" type=\"checkbox\" ><label for=\"sk-estimator-id-5\" class=\"sk-toggleable__label sk-toggleable__label-arrow\">estimator: LogisticRegression</label><div class=\"sk-toggleable__content\"><pre>LogisticRegression()</pre></div></div></div><div class=\"sk-serial\"><div class=\"sk-item\"><div class=\"sk-estimator sk-toggleable\"><input class=\"sk-toggleable__control sk-hidden--visually\" id=\"sk-estimator-id-6\" type=\"checkbox\" ><label for=\"sk-estimator-id-6\" class=\"sk-toggleable__label sk-toggleable__label-arrow\">LogisticRegression</label><div class=\"sk-toggleable__content\"><pre>LogisticRegression()</pre></div></div></div></div></div></div></div></div></div></div>"
      ],
      "text/plain": [
       "GridSearchCV(estimator=LogisticRegression(),\n",
       "             param_grid={'C': [0.1, 1, 10, 100, 1000], 'penalty': ['l2'],\n",
       "                         'solver': ['newton-cg', 'lbfgs', 'liblinear', 'sag',\n",
       "                                    'saga']},\n",
       "             verbose=3)"
      ]
     },
     "execution_count": 28,
     "metadata": {},
     "output_type": "execute_result"
    }
   ],
   "source": [
    "from sklearn.model_selection import GridSearchCV\n",
    "param_grid = {'C': [0.1, 1, 10, 100, 1000], 'penalty': ['l2'], 'solver': ['newton-cg', 'lbfgs', 'liblinear', 'sag', 'saga']}\n",
    "grid = GridSearchCV(LogisticRegression(), param_grid, refit=True, verbose=3)\n",
    "grid.fit(x_train, y_train)"
   ]
  },
  {
   "cell_type": "code",
   "execution_count": 29,
   "metadata": {},
   "outputs": [
    {
     "name": "stdout",
     "output_type": "stream",
     "text": [
      "Best cross-validation score: 0.95\n",
      "Best parameters:  {'C': 10, 'penalty': 'l2', 'solver': 'liblinear'}\n"
     ]
    }
   ],
   "source": [
    "print(\"Best cross-validation score: {:.2f}\".format(grid.best_score_))\n",
    "print(\"Best parameters: \", grid.best_params_)"
   ]
  },
  {
   "cell_type": "code",
   "execution_count": 36,
   "metadata": {},
   "outputs": [
    {
     "name": "stdout",
     "output_type": "stream",
     "text": [
      "test accuracy: 0.9418383914075185\n"
     ]
    }
   ],
   "source": [
    "clf = LogisticRegression(random_state=0, multi_class='multinomial', C=10, penalty='l2')\n",
    "clf.fit(x_train, y_train)\n",
    "clf_pred = clf.predict(x_test)\n",
    "clf_acc = accuracy_score(y_test, clf_pred)\n",
    "print(\"test accuracy: {}\".format(clf_acc))"
   ]
  },
  {
   "cell_type": "code",
   "execution_count": 37,
   "metadata": {},
   "outputs": [
    {
     "name": "stdout",
     "output_type": "stream",
     "text": [
      "              precision    recall  f1-score   support\n",
      "\n",
      "           0       0.91      0.93      0.92     21879\n",
      "           1       0.92      0.92      0.92     20656\n",
      "           2       0.97      0.97      0.97     28877\n",
      "           3       0.96      0.91      0.94      8658\n",
      "\n",
      "    accuracy                           0.94     80070\n",
      "   macro avg       0.94      0.93      0.94     80070\n",
      "weighted avg       0.94      0.94      0.94     80070\n",
      "\n",
      "\n",
      "\n",
      "[[20317  1135   290   137]\n",
      " [ 1184 19087   309    76]\n",
      " [  375   301 28100   101]\n",
      " [  399   155   195  7909]]\n"
     ]
    }
   ],
   "source": [
    "print(classification_report(y_test, clf_pred))\n",
    "print(\"\\n\")\n",
    "print(confusion_matrix(y_test, clf_pred))"
   ]
  }
 ],
 "metadata": {
  "kernelspec": {
   "display_name": "Python 3",
   "language": "python",
   "name": "python3"
  },
  "language_info": {
   "codemirror_mode": {
    "name": "ipython",
    "version": 3
   },
   "file_extension": ".py",
   "mimetype": "text/x-python",
   "name": "python",
   "nbconvert_exporter": "python",
   "pygments_lexer": "ipython3",
   "version": "3.10.5"
  },
  "orig_nbformat": 4
 },
 "nbformat": 4,
 "nbformat_minor": 2
}
