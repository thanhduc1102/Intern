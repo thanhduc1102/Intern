{
 "cells": [
  {
   "cell_type": "code",
   "execution_count": 4,
   "metadata": {},
   "outputs": [],
   "source": [
    "import pandas as pd\n",
    "import random \n",
    "import matplotlib.pyplot as plt\n",
    "import seaborn as sns\n",
    "import re\n",
    "import nltk\n",
    "from sklearn.model_selection import train_test_split\n",
    "from nltk.stem import WordNetLemmatizer\n",
    "from nltk.stem import PorterStemmer\n",
    "from nltk.tokenize import word_tokenize\n",
    "from nltk.corpus import stopwords\n",
    "stop_words = set(stopwords.words('english'))\n",
    "from sklearn.feature_extraction.text import TfidfVectorizer\n"
   ]
  },
  {
   "cell_type": "code",
   "execution_count": 5,
   "metadata": {},
   "outputs": [
    {
     "data": {
      "text/html": [
       "<div>\n",
       "<style scoped>\n",
       "    .dataframe tbody tr th:only-of-type {\n",
       "        vertical-align: middle;\n",
       "    }\n",
       "\n",
       "    .dataframe tbody tr th {\n",
       "        vertical-align: top;\n",
       "    }\n",
       "\n",
       "    .dataframe thead th {\n",
       "        text-align: right;\n",
       "    }\n",
       "</style>\n",
       "<table border=\"1\" class=\"dataframe\">\n",
       "  <thead>\n",
       "    <tr style=\"text-align: right;\">\n",
       "      <th></th>\n",
       "      <th>1</th>\n",
       "      <th>2</th>\n",
       "      <th>3</th>\n",
       "      <th>4</th>\n",
       "      <th>5</th>\n",
       "      <th>6</th>\n",
       "      <th>7</th>\n",
       "    </tr>\n",
       "  </thead>\n",
       "  <tbody>\n",
       "    <tr>\n",
       "      <th>0</th>\n",
       "      <td>Study: Pancreatic Cancer Will Be 2nd Deadliest...</td>\n",
       "      <td>http://minnesota.cbslocal.com/2014/05/19/study...</td>\n",
       "      <td>CBS Local</td>\n",
       "      <td>m</td>\n",
       "      <td>dESNNvDfkAPVrDMV7XCZMh93MSB6M</td>\n",
       "      <td>minnesota.cbslocal.com</td>\n",
       "      <td>1400589540897</td>\n",
       "    </tr>\n",
       "    <tr>\n",
       "      <th>1</th>\n",
       "      <td>GSK Weight Loss Products Recall: Alli Capsules...</td>\n",
       "      <td>http://www.franchiseherald.com/articles/5463/2...</td>\n",
       "      <td>Franchise Herald</td>\n",
       "      <td>m</td>\n",
       "      <td>dSqPDhIrxnVWeAMyG_uhvAEXdKLvM</td>\n",
       "      <td>www.franchiseherald.com</td>\n",
       "      <td>1396081795214</td>\n",
       "    </tr>\n",
       "    <tr>\n",
       "      <th>2</th>\n",
       "      <td>London shares gain on strong US retail sales, ...</td>\n",
       "      <td>http://news.yahoo.com/london-shares-gain-stron...</td>\n",
       "      <td>Yahoo News</td>\n",
       "      <td>b</td>\n",
       "      <td>dcMA2yLhsuf1HGM43lphsqf5jGm0M</td>\n",
       "      <td>news.yahoo.com</td>\n",
       "      <td>1397509441724</td>\n",
       "    </tr>\n",
       "    <tr>\n",
       "      <th>3</th>\n",
       "      <td>Marvel recasts Thor as a woman</td>\n",
       "      <td>http://www.thedailystar.net/entertainment/marv...</td>\n",
       "      <td>The Daily Star</td>\n",
       "      <td>e</td>\n",
       "      <td>dqjX6McyDsvou_Mqd-zO9NDAP7J2M</td>\n",
       "      <td>www.thedailystar.net</td>\n",
       "      <td>1405573983808</td>\n",
       "    </tr>\n",
       "    <tr>\n",
       "      <th>4</th>\n",
       "      <td>Eurovision 2014: UK Entry Molly Admits 'Armeni...</td>\n",
       "      <td>http://www.huffingtonpost.co.uk/2014/05/09/eur...</td>\n",
       "      <td>Huffington Post UK</td>\n",
       "      <td>e</td>\n",
       "      <td>dyaHTRyzxDOk6fMoGuMjh-2X5JsQM</td>\n",
       "      <td>www.huffingtonpost.co.uk</td>\n",
       "      <td>1399701843137</td>\n",
       "    </tr>\n",
       "  </tbody>\n",
       "</table>\n",
       "</div>"
      ],
      "text/plain": [
       "                                                   1  \\\n",
       "0  Study: Pancreatic Cancer Will Be 2nd Deadliest...   \n",
       "1  GSK Weight Loss Products Recall: Alli Capsules...   \n",
       "2  London shares gain on strong US retail sales, ...   \n",
       "3                     Marvel recasts Thor as a woman   \n",
       "4  Eurovision 2014: UK Entry Molly Admits 'Armeni...   \n",
       "\n",
       "                                                   2                   3  4  \\\n",
       "0  http://minnesota.cbslocal.com/2014/05/19/study...           CBS Local  m   \n",
       "1  http://www.franchiseherald.com/articles/5463/2...    Franchise Herald  m   \n",
       "2  http://news.yahoo.com/london-shares-gain-stron...          Yahoo News  b   \n",
       "3  http://www.thedailystar.net/entertainment/marv...      The Daily Star  e   \n",
       "4  http://www.huffingtonpost.co.uk/2014/05/09/eur...  Huffington Post UK  e   \n",
       "\n",
       "                               5                         6              7  \n",
       "0  dESNNvDfkAPVrDMV7XCZMh93MSB6M    minnesota.cbslocal.com  1400589540897  \n",
       "1  dSqPDhIrxnVWeAMyG_uhvAEXdKLvM   www.franchiseherald.com  1396081795214  \n",
       "2  dcMA2yLhsuf1HGM43lphsqf5jGm0M            news.yahoo.com  1397509441724  \n",
       "3  dqjX6McyDsvou_Mqd-zO9NDAP7J2M      www.thedailystar.net  1405573983808  \n",
       "4  dyaHTRyzxDOk6fMoGuMjh-2X5JsQM  www.huffingtonpost.co.uk  1399701843137  "
      ]
     },
     "execution_count": 5,
     "metadata": {},
     "output_type": "execute_result"
    }
   ],
   "source": [
    "data_df = pd.read_csv('newsCorpora.csv', sep='\\t', header=None)\n",
    "data_df.drop(data_df.columns[0], axis=1, inplace=True)\n",
    "rows = list(range(len(data_df.index)))\n",
    "random.shuffle(rows)\n",
    "data_df = data_df.iloc[rows]\n",
    "data_df = data_df.reset_index(drop=True)\n",
    "data_df.head()"
   ]
  },
  {
   "cell_type": "code",
   "execution_count": 6,
   "metadata": {},
   "outputs": [
    {
     "name": "stdout",
     "output_type": "stream",
     "text": [
      "<class 'pandas.core.frame.DataFrame'>\n",
      "RangeIndex: 422419 entries, 0 to 422418\n",
      "Data columns (total 7 columns):\n",
      " #   Column  Non-Null Count   Dtype   \n",
      "---  ------  --------------   -----   \n",
      " 0   1       422419 non-null  object  \n",
      " 1   2       422419 non-null  object  \n",
      " 2   3       422417 non-null  object  \n",
      " 3   4       422419 non-null  category\n",
      " 4   5       422419 non-null  object  \n",
      " 5   6       422419 non-null  object  \n",
      " 6   7       422419 non-null  int64   \n",
      "dtypes: category(1), int64(1), object(5)\n",
      "memory usage: 19.7+ MB\n"
     ]
    }
   ],
   "source": [
    "data_df.iloc[:, 3] = data_df.iloc[:, 3].astype('category')\n",
    "data_df.info()"
   ]
  },
  {
   "cell_type": "code",
   "execution_count": 7,
   "metadata": {},
   "outputs": [
    {
     "data": {
      "text/plain": [
       "Text(0.5, 1.0, 'Distribution of news categories')"
      ]
     },
     "execution_count": 7,
     "metadata": {},
     "output_type": "execute_result"
    },
    {
     "data": {
      "image/png": "[encoded data removed]",
      "text/plain": [
       "<Figure size 432x288 with 1 Axes>"
      ]
     },
     "metadata": {
      "needs_background": "light"
     },
     "output_type": "display_data"
    }
   ],
   "source": [
    "sns.countplot(x=data_df.iloc[:, 3], data=data_df)\n",
    "plt.title('Distribution of news categories')"
   ]
  },
  {
   "cell_type": "code",
   "execution_count": 8,
   "metadata": {},
   "outputs": [],
   "source": [
    "def data_processing(text):\n",
    "    text = text.lower()\n",
    "    text_tokens = word_tokenize(text)\n",
    "    filtered_text = [word for word in text_tokens if word not in stop_words]\n",
    "    stemmer = PorterStemmer()\n",
    "    stemmed_text = [stemmer.stem(word) for word in filtered_text]\n",
    "    lemmatizer = WordNetLemmatizer()\n",
    "    lemmatized_text = [lemmatizer.lemmatize(word) for word in stemmed_text]\n",
    "    return \" \".join(lemmatized_text)\n"
   ]
  },
  {
   "cell_type": "code",
   "execution_count": 9,
   "metadata": {},
   "outputs": [],
   "source": [
    "X = data_df.iloc[:, 0].apply(data_processing)\n",
    "Y = data_df.iloc[:, 3]"
   ]
  },
  {
   "cell_type": "code",
   "execution_count": 10,
   "metadata": {},
   "outputs": [
    {
     "data": {
      "text/html": [
       "<div>\n",
       "<style scoped>\n",
       "    .dataframe tbody tr th:only-of-type {\n",
       "        vertical-align: middle;\n",
       "    }\n",
       "\n",
       "    .dataframe tbody tr th {\n",
       "        vertical-align: top;\n",
       "    }\n",
       "\n",
       "    .dataframe thead th {\n",
       "        text-align: right;\n",
       "    }\n",
       "</style>\n",
       "<table border=\"1\" class=\"dataframe\">\n",
       "  <thead>\n",
       "    <tr style=\"text-align: right;\">\n",
       "      <th></th>\n",
       "      <th>title</th>\n",
       "      <th>category</th>\n",
       "      <th>word_count</th>\n",
       "    </tr>\n",
       "  </thead>\n",
       "  <tbody>\n",
       "    <tr>\n",
       "      <th>0</th>\n",
       "      <td>studi : pancreat cancer 2nd deadliest 2020</td>\n",
       "      <td>3</td>\n",
       "      <td>7</td>\n",
       "    </tr>\n",
       "    <tr>\n",
       "      <th>1</th>\n",
       "      <td>gsk weight loss product recal : alli capsul re...</td>\n",
       "      <td>3</td>\n",
       "      <td>10</td>\n",
       "    </tr>\n",
       "    <tr>\n",
       "      <th>2</th>\n",
       "      <td>london share gain strong u retail sale , citi ...</td>\n",
       "      <td>0</td>\n",
       "      <td>10</td>\n",
       "    </tr>\n",
       "    <tr>\n",
       "      <th>3</th>\n",
       "      <td>marvel recast thor woman</td>\n",
       "      <td>2</td>\n",
       "      <td>4</td>\n",
       "    </tr>\n",
       "    <tr>\n",
       "      <th>4</th>\n",
       "      <td>eurovis 2014 : uk entri molli admit 'armenia b...</td>\n",
       "      <td>2</td>\n",
       "      <td>11</td>\n",
       "    </tr>\n",
       "  </tbody>\n",
       "</table>\n",
       "</div>"
      ],
      "text/plain": [
       "                                               title category  word_count\n",
       "0         studi : pancreat cancer 2nd deadliest 2020        3           7\n",
       "1  gsk weight loss product recal : alli capsul re...        3          10\n",
       "2  london share gain strong u retail sale , citi ...        0          10\n",
       "3                           marvel recast thor woman        2           4\n",
       "4  eurovis 2014 : uk entri molli admit 'armenia b...        2          11"
      ]
     },
     "execution_count": 10,
     "metadata": {},
     "output_type": "execute_result"
    }
   ],
   "source": [
    "data = pd.DataFrame()\n",
    "data['title'] = X\n",
    "data['category'] = Y\n",
    "data.category.replace({'b': 0, 't': 1, 'e': 2, 'm': 3}, inplace=True)\n",
    "data['word_count'] = data['title'].apply(lambda x: len(str(x).split(\" \")))\n",
    "data.head()"
   ]
  },
  {
   "cell_type": "code",
   "execution_count": 11,
   "metadata": {},
   "outputs": [
    {
     "name": "stdout",
     "output_type": "stream",
     "text": [
      "Number of duplicate rows:  21082\n"
     ]
    }
   ],
   "source": [
    "duplicate_count = data.duplicated().sum()\n",
    "print(\"Number of duplicate rows: \", duplicate_count)"
   ]
  },
  {
   "cell_type": "code",
   "execution_count": 12,
   "metadata": {},
   "outputs": [
    {
     "data": {
      "text/plain": [
       "(400350, 3)"
      ]
     },
     "execution_count": 12,
     "metadata": {},
     "output_type": "execute_result"
    }
   ],
   "source": [
    "data = data.drop_duplicates('title')\n",
    "data.shape"
   ]
  },
  {
   "cell_type": "code",
   "execution_count": 13,
   "metadata": {},
   "outputs": [],
   "source": [
    "X = data['title']\n",
    "Y = data['category']\n",
    "vect = TfidfVectorizer()\n",
    "X = vect.fit_transform(X)"
   ]
  },
  {
   "cell_type": "code",
   "execution_count": 14,
   "metadata": {},
   "outputs": [
    {
     "name": "stdout",
     "output_type": "stream",
     "text": [
      "  (0, 11707)\t0.3887347675382524\n",
      "  (0, 38586)\t0.2870405333086237\n",
      "  (0, 9398)\t0.25479346077159587\n",
      "  (0, 39123)\t0.5810738127434448\n",
      "  (0, 16484)\t0.32368168924148927\n",
      "  (0, 22272)\t0.1865987690575191\n",
      "  (0, 11703)\t0.23439076613043877\n",
      "  (0, 25041)\t0.41158056492683365\n",
      "  (1, 9820)\t0.4647221962525406\n",
      "  (1, 14687)\t0.5930914443115302\n",
      "  (1, 11967)\t0.48812090874477726\n",
      "  (1, 35048)\t0.44046997337032084\n",
      "  (2, 36144)\t0.3940329218238088\n",
      "  (2, 22926)\t0.544675978641181\n",
      "  (2, 5292)\t0.32596830170252833\n",
      "  (2, 5555)\t0.3291831774196409\n",
      "  (2, 7505)\t0.3940801207501653\n",
      "  (2, 17030)\t0.2799757853598667\n",
      "  (2, 5121)\t0.3158538504451126\n",
      "  (3, 23331)\t0.430367964654932\n",
      "  (3, 19297)\t0.39571920271042593\n",
      "  (3, 40091)\t0.3815073408758027\n",
      "  (3, 30959)\t0.4130944017590655\n",
      "  (3, 28507)\t0.3633169924570342\n",
      "  (3, 28756)\t0.3368187177305608\n",
      "  :\t:\n",
      "  (320275, 25063)\t0.35186615067660537\n",
      "  (320276, 27929)\t0.5636436156422704\n",
      "  (320276, 5563)\t0.4407906525958927\n",
      "  (320276, 4260)\t0.47017464014416427\n",
      "  (320276, 31816)\t0.3499418089968178\n",
      "  (320276, 28756)\t0.31183294411089313\n",
      "  (320276, 26182)\t0.21736197500544738\n",
      "  (320277, 35250)\t0.4955401726229206\n",
      "  (320277, 21775)\t0.4248344388944486\n",
      "  (320277, 9823)\t0.45394967397662506\n",
      "  (320277, 5162)\t0.3862026358488696\n",
      "  (320277, 25162)\t0.4676888435765667\n",
      "  (320278, 23387)\t0.5625595221091322\n",
      "  (320278, 24359)\t0.4889693203437935\n",
      "  (320278, 9547)\t0.4775017409170107\n",
      "  (320278, 36734)\t0.4652180943042707\n",
      "  (320279, 9048)\t0.3628205716153221\n",
      "  (320279, 14208)\t0.3789579872989432\n",
      "  (320279, 6415)\t0.3958072344221663\n",
      "  (320279, 25413)\t0.4075311548133308\n",
      "  (320279, 31816)\t0.28854089391707094\n",
      "  (320279, 12238)\t0.3415536608215591\n",
      "  (320279, 15061)\t0.2863772697150362\n",
      "  (320279, 26858)\t0.29657931510076635\n",
      "  (320279, 26182)\t0.1792235650591328\n"
     ]
    }
   ],
   "source": [
    "x_train, x_test, y_train, y_test = train_test_split(\n",
    "    X, Y, test_size=0.2, random_state=42)\n",
    "# x_test, x_val, y_test, y_val = train_test_split(x_test, y_test, test_size=0.5, random_state=42)\n",
    "print(x_train)"
   ]
  },
  {
   "cell_type": "code",
   "execution_count": 15,
   "metadata": {},
   "outputs": [],
   "source": [
    "from sklearn.linear_model import LogisticRegression\n",
    "from sklearn.multiclass import OneVsRestClassifier\n",
    "from sklearn.metrics import accuracy_score, confusion_matrix, classification_report\n",
    "import warnings\n",
    "warnings.filterwarnings('ignore')"
   ]
  },
  {
   "cell_type": "code",
   "execution_count": 16,
   "metadata": {},
   "outputs": [
    {
     "name": "stdout",
     "output_type": "stream",
     "text": [
      "test accuracy: 0.9408892219308106\n"
     ]
    }
   ],
   "source": [
    "logreg = LogisticRegression()\n",
    "ovr = OneVsRestClassifier(logreg)\n",
    "ovr.fit(x_train, y_train)\n",
    "ovr_pred = ovr.predict(x_test)\n",
    "ovr_acc = accuracy_score(y_test, ovr_pred)\n",
    "print(\"test accuracy: {}\".format(ovr_acc))"
   ]
  },
  {
   "cell_type": "code",
   "execution_count": 17,
   "metadata": {},
   "outputs": [
    {
     "name": "stdout",
     "output_type": "stream",
     "text": [
      "              precision    recall  f1-score   support\n",
      "\n",
      "           0       0.92      0.93      0.92     22137\n",
      "           1       0.93      0.92      0.93     20724\n",
      "           2       0.96      0.98      0.97     28714\n",
      "           3       0.96      0.90      0.93      8495\n",
      "\n",
      "    accuracy                           0.94     80070\n",
      "   macro avg       0.94      0.93      0.94     80070\n",
      "weighted avg       0.94      0.94      0.94     80070\n",
      "\n",
      "\n",
      "\n",
      "[[20499  1103   365   170]\n",
      " [ 1091 19149   397    87]\n",
      " [  349   247 28020    98]\n",
      " [  408   152   266  7669]]\n"
     ]
    }
   ],
   "source": [
    "print(classification_report(y_test, ovr_pred))\n",
    "print(\"\\n\")\n",
    "print(confusion_matrix(y_test, ovr_pred))"
   ]
  },
  {
   "cell_type": "code",
   "execution_count": 18,
   "metadata": {},
   "outputs": [
    {
     "name": "stdout",
     "output_type": "stream",
     "text": [
      "Fitting 5 folds for each of 20 candidates, totalling 100 fits\n",
      "[CV 1/5] END estimator__C=0.1, estimator__penalty=l1, estimator__solver=liblinear;, score=0.893 total time=   4.5s\n",
      "[CV 2/5] END estimator__C=0.1, estimator__penalty=l1, estimator__solver=liblinear;, score=0.893 total time=   4.1s\n",
      "[CV 3/5] END estimator__C=0.1, estimator__penalty=l1, estimator__solver=liblinear;, score=0.892 total time=   3.6s\n",
      "[CV 4/5] END estimator__C=0.1, estimator__penalty=l1, estimator__solver=liblinear;, score=0.892 total time=   2.0s\n",
      "[CV 5/5] END estimator__C=0.1, estimator__penalty=l1, estimator__solver=liblinear;, score=0.890 total time=   2.4s\n",
      "[CV 1/5] END estimator__C=0.1, estimator__penalty=l1, estimator__solver=saga;, score=0.892 total time= 1.9min\n"
     ]
    },
    {
     "name": "stderr",
     "output_type": "stream",
     "text": [
      "\n",
      "KeyboardInterrupt\n",
      "\n"
     ]
    }
   ],
   "source": [
    "from sklearn.model_selection import GridSearchCV\n",
    "param_grid = {'estimator__C': [ 0.1, 1, 10, 100, 1000], 'estimator__penalty': ['l1', 'l2'], 'estimator__solver': ['liblinear', 'saga']} #, 'estimator__max_iter': [10000]}\n",
    "grid = GridSearchCV(ovr, param_grid, refit=True, verbose=3)\n",
    "# grid = GridSearchCV(ovr, param_grid, cv=5, scoring='accuracy')\n",
    "grid.fit(x_train, y_train)"
   ]
  },
  {
   "cell_type": "code",
   "execution_count": null,
   "metadata": {},
   "outputs": [
    {
     "ename": "NameError",
     "evalue": "name 'grid' is not defined",
     "output_type": "error",
     "traceback": [
      "\u001b[1;31m---------------------------------------------------------------------------\u001b[0m",
      "\u001b[1;31mNameError\u001b[0m                                 Traceback (most recent call last)",
      "\u001b[1;32me:\\duc\\TAI_LIEU_HUST\\20222\\ttkt\\Logistic_Regression\\logistic_regression.ipynb Cell 16\u001b[0m in \u001b[0;36m<cell line: 1>\u001b[1;34m()\u001b[0m\n\u001b[1;32m----> <a href='vscode-notebook-cell:/e%3A/duc/TAI_LIEU_HUST/20222/ttkt/Logistic_Regression/logistic_regression.ipynb#X21sZmlsZQ%3D%3D?line=0'>1</a>\u001b[0m \u001b[39mprint\u001b[39m(\u001b[39m\"\u001b[39m\u001b[39mBest cross-validation score: \u001b[39m\u001b[39m{:.2f}\u001b[39;00m\u001b[39m\"\u001b[39m\u001b[39m.\u001b[39mformat(grid\u001b[39m.\u001b[39mbest_score_))\n\u001b[0;32m      <a href='vscode-notebook-cell:/e%3A/duc/TAI_LIEU_HUST/20222/ttkt/Logistic_Regression/logistic_regression.ipynb#X21sZmlsZQ%3D%3D?line=1'>2</a>\u001b[0m \u001b[39mprint\u001b[39m(\u001b[39m\"\u001b[39m\u001b[39mBest parameters: \u001b[39m\u001b[39m\"\u001b[39m, grid\u001b[39m.\u001b[39mbest_params_)\n",
      "\u001b[1;31mNameError\u001b[0m: name 'grid' is not defined"
     ]
    }
   ],
   "source": [
    "print(\"Best cross-validation score: {:.2f}\".format(grid.best_score_))\n",
    "print(\"Best parameters: \", grid.best_params_)"
   ]
  },
  {
   "cell_type": "code",
   "execution_count": null,
   "metadata": {},
   "outputs": [],
   "source": [
    "logreg = LogisticRegression(C=1000, max_iter=10000, penalty='l2', solver='liblinear')\n",
    "ovr = OneVsRestClassifier(logreg)\n",
    "ovr.fit(x_train, y_train)\n",
    "ovr_pred = ovr.predict(x_test)\n",
    "ovr_acc = accuracy_score(y_test, ovr_pred)\n",
    "print(\"test accuracy: {}\".format(ovr_acc))"
   ]
  },
  {
   "cell_type": "code",
   "execution_count": null,
   "metadata": {},
   "outputs": [],
   "source": [
    "print(classification_report(y_test, ovr_pred))\n",
    "print(\"\\n\")\n",
    "print(confusion_matrix(y_test, ovr_pred))"
   ]
  },
  {
   "cell_type": "code",
   "execution_count": null,
   "metadata": {},
   "outputs": [
    {
     "name": "stdout",
     "output_type": "stream",
     "text": [
      "test accuracy: 0.9442737604595979\n"
     ]
    }
   ],
   "source": [
    "# logreg = LogisticRegression(C=10, penalty='l2')\n",
    "# logreg.fit(x_train, y_train)\n",
    "# logreg_pred = logreg.predict(x_test)\n",
    "# logreg_acc = accuracy_score(y_test, logreg_pred)\n",
    "# print(\"test accuracy: {}\".format(logreg_acc))\n"
   ]
  },
  {
   "cell_type": "code",
   "execution_count": null,
   "metadata": {},
   "outputs": [
    {
     "name": "stdout",
     "output_type": "stream",
     "text": [
      "              precision    recall  f1-score   support\n",
      "\n",
      "           0       0.92      0.93      0.92     22172\n",
      "           1       0.92      0.93      0.93     20433\n",
      "           2       0.97      0.97      0.97     28761\n",
      "           3       0.96      0.92      0.94      8704\n",
      "\n",
      "    accuracy                           0.94     80070\n",
      "   macro avg       0.94      0.94      0.94     80070\n",
      "weighted avg       0.94      0.94      0.94     80070\n",
      "\n",
      "\n",
      "\n",
      "[[20549  1146   298   179]\n",
      " [ 1052 18989   321    71]\n",
      " [  356   257 28038   110]\n",
      " [  336   158   178  8032]]\n"
     ]
    }
   ],
   "source": [
    "# print(classification_report(y_test, logreg_pred))\n",
    "# print('\\n')\n",
    "# print(confusion_matrix(y_test, logreg_pred))"
   ]
  },
  {
   "cell_type": "code",
   "execution_count": null,
   "metadata": {},
   "outputs": [],
   "source": []
  }
 ],
 "metadata": {
  "kernelspec": {
   "display_name": "Python 3",
   "language": "python",
   "name": "python3"
  },
  "language_info": {
   "codemirror_mode": {
    "name": "ipython",
    "version": 3
   },
   "file_extension": ".py",
   "mimetype": "text/x-python",
   "name": "python",
   "nbconvert_exporter": "python",
   "pygments_lexer": "ipython3",
   "version": "3.10.5"
  },
  "orig_nbformat": 4
 },
 "nbformat": 4,
 "nbformat_minor": 2
}
